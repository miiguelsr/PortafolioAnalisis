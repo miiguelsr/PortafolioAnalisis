{
  "nbformat": 4,
  "nbformat_minor": 0,
  "metadata": {
    "colab": {
      "provenance": []
    },
    "kernelspec": {
      "name": "python3",
      "display_name": "Python 3"
    },
    "language_info": {
      "name": "python"
    }
  },
  "cells": [
    {
      "cell_type": "code",
      "execution_count": 1,
      "metadata": {
        "id": "RrC3a9mhbp0n"
      },
      "outputs": [],
      "source": [
        "import pandas as pd\n",
        "import matplotlib.pyplot as plt\n",
        "import seaborn as sns\n",
        "from datetime import date\n",
        "import numpy as np\n",
        "import seaborn as sn\n",
        "from sklearn.preprocessing import LabelEncoder\n",
        "from sklearn.model_selection import train_test_split\n",
        "import plotly.express as px"
      ]
    },
    {
      "cell_type": "code",
      "source": [
        "df = pd.read_csv(\"ds_salaries.csv\", index_col= 0)"
      ],
      "metadata": {
        "id": "F7KPLb2UdpG2"
      },
      "execution_count": 2,
      "outputs": []
    },
    {
      "cell_type": "code",
      "source": [
        "df"
      ],
      "metadata": {
        "colab": {
          "base_uri": "https://localhost:8080/",
          "height": 713
        },
        "id": "y9Nhj7NYdtt4",
        "outputId": "6f4624ec-978d-4a1e-a7ad-1f9cdb0ea224"
      },
      "execution_count": 3,
      "outputs": [
        {
          "output_type": "execute_result",
          "data": {
            "text/plain": [
              "     work_year experience_level employment_type                   job_title  \\\n",
              "0         2020               MI              FT              Data Scientist   \n",
              "1         2020               SE              FT  Machine Learning Scientist   \n",
              "2         2020               SE              FT           Big Data Engineer   \n",
              "3         2020               MI              FT        Product Data Analyst   \n",
              "4         2020               SE              FT   Machine Learning Engineer   \n",
              "..         ...              ...             ...                         ...   \n",
              "602       2022               SE              FT               Data Engineer   \n",
              "603       2022               SE              FT               Data Engineer   \n",
              "604       2022               SE              FT                Data Analyst   \n",
              "605       2022               SE              FT                Data Analyst   \n",
              "606       2022               MI              FT                AI Scientist   \n",
              "\n",
              "     salary salary_currency  salary_in_usd employee_residence  remote_ratio  \\\n",
              "0     70000             EUR          79833                 DE             0   \n",
              "1    260000             USD         260000                 JP             0   \n",
              "2     85000             GBP         109024                 GB            50   \n",
              "3     20000             USD          20000                 HN             0   \n",
              "4    150000             USD         150000                 US            50   \n",
              "..      ...             ...            ...                ...           ...   \n",
              "602  154000             USD         154000                 US           100   \n",
              "603  126000             USD         126000                 US           100   \n",
              "604  129000             USD         129000                 US             0   \n",
              "605  150000             USD         150000                 US           100   \n",
              "606  200000             USD         200000                 IN           100   \n",
              "\n",
              "    company_location company_size  \n",
              "0                 DE            L  \n",
              "1                 JP            S  \n",
              "2                 GB            M  \n",
              "3                 HN            S  \n",
              "4                 US            L  \n",
              "..               ...          ...  \n",
              "602               US            M  \n",
              "603               US            M  \n",
              "604               US            M  \n",
              "605               US            M  \n",
              "606               US            L  \n",
              "\n",
              "[607 rows x 11 columns]"
            ],
            "text/html": [
              "\n",
              "  <div id=\"df-ec7b68d6-c2cb-4053-b629-04675782cc73\">\n",
              "    <div class=\"colab-df-container\">\n",
              "      <div>\n",
              "<style scoped>\n",
              "    .dataframe tbody tr th:only-of-type {\n",
              "        vertical-align: middle;\n",
              "    }\n",
              "\n",
              "    .dataframe tbody tr th {\n",
              "        vertical-align: top;\n",
              "    }\n",
              "\n",
              "    .dataframe thead th {\n",
              "        text-align: right;\n",
              "    }\n",
              "</style>\n",
              "<table border=\"1\" class=\"dataframe\">\n",
              "  <thead>\n",
              "    <tr style=\"text-align: right;\">\n",
              "      <th></th>\n",
              "      <th>work_year</th>\n",
              "      <th>experience_level</th>\n",
              "      <th>employment_type</th>\n",
              "      <th>job_title</th>\n",
              "      <th>salary</th>\n",
              "      <th>salary_currency</th>\n",
              "      <th>salary_in_usd</th>\n",
              "      <th>employee_residence</th>\n",
              "      <th>remote_ratio</th>\n",
              "      <th>company_location</th>\n",
              "      <th>company_size</th>\n",
              "    </tr>\n",
              "  </thead>\n",
              "  <tbody>\n",
              "    <tr>\n",
              "      <th>0</th>\n",
              "      <td>2020</td>\n",
              "      <td>MI</td>\n",
              "      <td>FT</td>\n",
              "      <td>Data Scientist</td>\n",
              "      <td>70000</td>\n",
              "      <td>EUR</td>\n",
              "      <td>79833</td>\n",
              "      <td>DE</td>\n",
              "      <td>0</td>\n",
              "      <td>DE</td>\n",
              "      <td>L</td>\n",
              "    </tr>\n",
              "    <tr>\n",
              "      <th>1</th>\n",
              "      <td>2020</td>\n",
              "      <td>SE</td>\n",
              "      <td>FT</td>\n",
              "      <td>Machine Learning Scientist</td>\n",
              "      <td>260000</td>\n",
              "      <td>USD</td>\n",
              "      <td>260000</td>\n",
              "      <td>JP</td>\n",
              "      <td>0</td>\n",
              "      <td>JP</td>\n",
              "      <td>S</td>\n",
              "    </tr>\n",
              "    <tr>\n",
              "      <th>2</th>\n",
              "      <td>2020</td>\n",
              "      <td>SE</td>\n",
              "      <td>FT</td>\n",
              "      <td>Big Data Engineer</td>\n",
              "      <td>85000</td>\n",
              "      <td>GBP</td>\n",
              "      <td>109024</td>\n",
              "      <td>GB</td>\n",
              "      <td>50</td>\n",
              "      <td>GB</td>\n",
              "      <td>M</td>\n",
              "    </tr>\n",
              "    <tr>\n",
              "      <th>3</th>\n",
              "      <td>2020</td>\n",
              "      <td>MI</td>\n",
              "      <td>FT</td>\n",
              "      <td>Product Data Analyst</td>\n",
              "      <td>20000</td>\n",
              "      <td>USD</td>\n",
              "      <td>20000</td>\n",
              "      <td>HN</td>\n",
              "      <td>0</td>\n",
              "      <td>HN</td>\n",
              "      <td>S</td>\n",
              "    </tr>\n",
              "    <tr>\n",
              "      <th>4</th>\n",
              "      <td>2020</td>\n",
              "      <td>SE</td>\n",
              "      <td>FT</td>\n",
              "      <td>Machine Learning Engineer</td>\n",
              "      <td>150000</td>\n",
              "      <td>USD</td>\n",
              "      <td>150000</td>\n",
              "      <td>US</td>\n",
              "      <td>50</td>\n",
              "      <td>US</td>\n",
              "      <td>L</td>\n",
              "    </tr>\n",
              "    <tr>\n",
              "      <th>...</th>\n",
              "      <td>...</td>\n",
              "      <td>...</td>\n",
              "      <td>...</td>\n",
              "      <td>...</td>\n",
              "      <td>...</td>\n",
              "      <td>...</td>\n",
              "      <td>...</td>\n",
              "      <td>...</td>\n",
              "      <td>...</td>\n",
              "      <td>...</td>\n",
              "      <td>...</td>\n",
              "    </tr>\n",
              "    <tr>\n",
              "      <th>602</th>\n",
              "      <td>2022</td>\n",
              "      <td>SE</td>\n",
              "      <td>FT</td>\n",
              "      <td>Data Engineer</td>\n",
              "      <td>154000</td>\n",
              "      <td>USD</td>\n",
              "      <td>154000</td>\n",
              "      <td>US</td>\n",
              "      <td>100</td>\n",
              "      <td>US</td>\n",
              "      <td>M</td>\n",
              "    </tr>\n",
              "    <tr>\n",
              "      <th>603</th>\n",
              "      <td>2022</td>\n",
              "      <td>SE</td>\n",
              "      <td>FT</td>\n",
              "      <td>Data Engineer</td>\n",
              "      <td>126000</td>\n",
              "      <td>USD</td>\n",
              "      <td>126000</td>\n",
              "      <td>US</td>\n",
              "      <td>100</td>\n",
              "      <td>US</td>\n",
              "      <td>M</td>\n",
              "    </tr>\n",
              "    <tr>\n",
              "      <th>604</th>\n",
              "      <td>2022</td>\n",
              "      <td>SE</td>\n",
              "      <td>FT</td>\n",
              "      <td>Data Analyst</td>\n",
              "      <td>129000</td>\n",
              "      <td>USD</td>\n",
              "      <td>129000</td>\n",
              "      <td>US</td>\n",
              "      <td>0</td>\n",
              "      <td>US</td>\n",
              "      <td>M</td>\n",
              "    </tr>\n",
              "    <tr>\n",
              "      <th>605</th>\n",
              "      <td>2022</td>\n",
              "      <td>SE</td>\n",
              "      <td>FT</td>\n",
              "      <td>Data Analyst</td>\n",
              "      <td>150000</td>\n",
              "      <td>USD</td>\n",
              "      <td>150000</td>\n",
              "      <td>US</td>\n",
              "      <td>100</td>\n",
              "      <td>US</td>\n",
              "      <td>M</td>\n",
              "    </tr>\n",
              "    <tr>\n",
              "      <th>606</th>\n",
              "      <td>2022</td>\n",
              "      <td>MI</td>\n",
              "      <td>FT</td>\n",
              "      <td>AI Scientist</td>\n",
              "      <td>200000</td>\n",
              "      <td>USD</td>\n",
              "      <td>200000</td>\n",
              "      <td>IN</td>\n",
              "      <td>100</td>\n",
              "      <td>US</td>\n",
              "      <td>L</td>\n",
              "    </tr>\n",
              "  </tbody>\n",
              "</table>\n",
              "<p>607 rows × 11 columns</p>\n",
              "</div>\n",
              "      <button class=\"colab-df-convert\" onclick=\"convertToInteractive('df-ec7b68d6-c2cb-4053-b629-04675782cc73')\"\n",
              "              title=\"Convert this dataframe to an interactive table.\"\n",
              "              style=\"display:none;\">\n",
              "        \n",
              "  <svg xmlns=\"http://www.w3.org/2000/svg\" height=\"24px\"viewBox=\"0 0 24 24\"\n",
              "       width=\"24px\">\n",
              "    <path d=\"M0 0h24v24H0V0z\" fill=\"none\"/>\n",
              "    <path d=\"M18.56 5.44l.94 2.06.94-2.06 2.06-.94-2.06-.94-.94-2.06-.94 2.06-2.06.94zm-11 1L8.5 8.5l.94-2.06 2.06-.94-2.06-.94L8.5 2.5l-.94 2.06-2.06.94zm10 10l.94 2.06.94-2.06 2.06-.94-2.06-.94-.94-2.06-.94 2.06-2.06.94z\"/><path d=\"M17.41 7.96l-1.37-1.37c-.4-.4-.92-.59-1.43-.59-.52 0-1.04.2-1.43.59L10.3 9.45l-7.72 7.72c-.78.78-.78 2.05 0 2.83L4 21.41c.39.39.9.59 1.41.59.51 0 1.02-.2 1.41-.59l7.78-7.78 2.81-2.81c.8-.78.8-2.07 0-2.86zM5.41 20L4 18.59l7.72-7.72 1.47 1.35L5.41 20z\"/>\n",
              "  </svg>\n",
              "      </button>\n",
              "      \n",
              "  <style>\n",
              "    .colab-df-container {\n",
              "      display:flex;\n",
              "      flex-wrap:wrap;\n",
              "      gap: 12px;\n",
              "    }\n",
              "\n",
              "    .colab-df-convert {\n",
              "      background-color: #E8F0FE;\n",
              "      border: none;\n",
              "      border-radius: 50%;\n",
              "      cursor: pointer;\n",
              "      display: none;\n",
              "      fill: #1967D2;\n",
              "      height: 32px;\n",
              "      padding: 0 0 0 0;\n",
              "      width: 32px;\n",
              "    }\n",
              "\n",
              "    .colab-df-convert:hover {\n",
              "      background-color: #E2EBFA;\n",
              "      box-shadow: 0px 1px 2px rgba(60, 64, 67, 0.3), 0px 1px 3px 1px rgba(60, 64, 67, 0.15);\n",
              "      fill: #174EA6;\n",
              "    }\n",
              "\n",
              "    [theme=dark] .colab-df-convert {\n",
              "      background-color: #3B4455;\n",
              "      fill: #D2E3FC;\n",
              "    }\n",
              "\n",
              "    [theme=dark] .colab-df-convert:hover {\n",
              "      background-color: #434B5C;\n",
              "      box-shadow: 0px 1px 3px 1px rgba(0, 0, 0, 0.15);\n",
              "      filter: drop-shadow(0px 1px 2px rgba(0, 0, 0, 0.3));\n",
              "      fill: #FFFFFF;\n",
              "    }\n",
              "  </style>\n",
              "\n",
              "      <script>\n",
              "        const buttonEl =\n",
              "          document.querySelector('#df-ec7b68d6-c2cb-4053-b629-04675782cc73 button.colab-df-convert');\n",
              "        buttonEl.style.display =\n",
              "          google.colab.kernel.accessAllowed ? 'block' : 'none';\n",
              "\n",
              "        async function convertToInteractive(key) {\n",
              "          const element = document.querySelector('#df-ec7b68d6-c2cb-4053-b629-04675782cc73');\n",
              "          const dataTable =\n",
              "            await google.colab.kernel.invokeFunction('convertToInteractive',\n",
              "                                                     [key], {});\n",
              "          if (!dataTable) return;\n",
              "\n",
              "          const docLinkHtml = 'Like what you see? Visit the ' +\n",
              "            '<a target=\"_blank\" href=https://colab.research.google.com/notebooks/data_table.ipynb>data table notebook</a>'\n",
              "            + ' to learn more about interactive tables.';\n",
              "          element.innerHTML = '';\n",
              "          dataTable['output_type'] = 'display_data';\n",
              "          await google.colab.output.renderOutput(dataTable, element);\n",
              "          const docLink = document.createElement('div');\n",
              "          docLink.innerHTML = docLinkHtml;\n",
              "          element.appendChild(docLink);\n",
              "        }\n",
              "      </script>\n",
              "    </div>\n",
              "  </div>\n",
              "  "
            ]
          },
          "metadata": {},
          "execution_count": 3
        }
      ]
    },
    {
      "cell_type": "markdown",
      "source": [
        "# Exploración de la base de datos\n",
        "## Calcula medidas estadísticas\n",
        "### Variables cuantitativas\n",
        "Medidas de tendencia central: promedio, media, mediana y moda de los datos.\n",
        "\n",
        "Medidas de dispersión: rango: máximo - mínimo, varianza, desviación estándar.\n",
        "\n",
        "### Variables cualitativas\n",
        "Tabla de distribución de frecuencia\n",
        "Moda"
      ],
      "metadata": {
        "id": "CFA68cEYcHXZ"
      }
    },
    {
      "cell_type": "code",
      "source": [
        "df.describe()"
      ],
      "metadata": {
        "colab": {
          "base_uri": "https://localhost:8080/",
          "height": 300
        },
        "id": "uwBLwQmyduGf",
        "outputId": "d24e1dfc-db13-4be3-dda1-e01cb6c5c581"
      },
      "execution_count": 4,
      "outputs": [
        {
          "output_type": "execute_result",
          "data": {
            "text/plain": [
              "         work_year        salary  salary_in_usd  remote_ratio\n",
              "count   607.000000  6.070000e+02     607.000000     607.00000\n",
              "mean   2021.405272  3.240001e+05  112297.869852      70.92257\n",
              "std       0.692133  1.544357e+06   70957.259411      40.70913\n",
              "min    2020.000000  4.000000e+03    2859.000000       0.00000\n",
              "25%    2021.000000  7.000000e+04   62726.000000      50.00000\n",
              "50%    2022.000000  1.150000e+05  101570.000000     100.00000\n",
              "75%    2022.000000  1.650000e+05  150000.000000     100.00000\n",
              "max    2022.000000  3.040000e+07  600000.000000     100.00000"
            ],
            "text/html": [
              "\n",
              "  <div id=\"df-5cea7b49-f3f5-494c-91df-e0c78c75c18d\">\n",
              "    <div class=\"colab-df-container\">\n",
              "      <div>\n",
              "<style scoped>\n",
              "    .dataframe tbody tr th:only-of-type {\n",
              "        vertical-align: middle;\n",
              "    }\n",
              "\n",
              "    .dataframe tbody tr th {\n",
              "        vertical-align: top;\n",
              "    }\n",
              "\n",
              "    .dataframe thead th {\n",
              "        text-align: right;\n",
              "    }\n",
              "</style>\n",
              "<table border=\"1\" class=\"dataframe\">\n",
              "  <thead>\n",
              "    <tr style=\"text-align: right;\">\n",
              "      <th></th>\n",
              "      <th>work_year</th>\n",
              "      <th>salary</th>\n",
              "      <th>salary_in_usd</th>\n",
              "      <th>remote_ratio</th>\n",
              "    </tr>\n",
              "  </thead>\n",
              "  <tbody>\n",
              "    <tr>\n",
              "      <th>count</th>\n",
              "      <td>607.000000</td>\n",
              "      <td>6.070000e+02</td>\n",
              "      <td>607.000000</td>\n",
              "      <td>607.00000</td>\n",
              "    </tr>\n",
              "    <tr>\n",
              "      <th>mean</th>\n",
              "      <td>2021.405272</td>\n",
              "      <td>3.240001e+05</td>\n",
              "      <td>112297.869852</td>\n",
              "      <td>70.92257</td>\n",
              "    </tr>\n",
              "    <tr>\n",
              "      <th>std</th>\n",
              "      <td>0.692133</td>\n",
              "      <td>1.544357e+06</td>\n",
              "      <td>70957.259411</td>\n",
              "      <td>40.70913</td>\n",
              "    </tr>\n",
              "    <tr>\n",
              "      <th>min</th>\n",
              "      <td>2020.000000</td>\n",
              "      <td>4.000000e+03</td>\n",
              "      <td>2859.000000</td>\n",
              "      <td>0.00000</td>\n",
              "    </tr>\n",
              "    <tr>\n",
              "      <th>25%</th>\n",
              "      <td>2021.000000</td>\n",
              "      <td>7.000000e+04</td>\n",
              "      <td>62726.000000</td>\n",
              "      <td>50.00000</td>\n",
              "    </tr>\n",
              "    <tr>\n",
              "      <th>50%</th>\n",
              "      <td>2022.000000</td>\n",
              "      <td>1.150000e+05</td>\n",
              "      <td>101570.000000</td>\n",
              "      <td>100.00000</td>\n",
              "    </tr>\n",
              "    <tr>\n",
              "      <th>75%</th>\n",
              "      <td>2022.000000</td>\n",
              "      <td>1.650000e+05</td>\n",
              "      <td>150000.000000</td>\n",
              "      <td>100.00000</td>\n",
              "    </tr>\n",
              "    <tr>\n",
              "      <th>max</th>\n",
              "      <td>2022.000000</td>\n",
              "      <td>3.040000e+07</td>\n",
              "      <td>600000.000000</td>\n",
              "      <td>100.00000</td>\n",
              "    </tr>\n",
              "  </tbody>\n",
              "</table>\n",
              "</div>\n",
              "      <button class=\"colab-df-convert\" onclick=\"convertToInteractive('df-5cea7b49-f3f5-494c-91df-e0c78c75c18d')\"\n",
              "              title=\"Convert this dataframe to an interactive table.\"\n",
              "              style=\"display:none;\">\n",
              "        \n",
              "  <svg xmlns=\"http://www.w3.org/2000/svg\" height=\"24px\"viewBox=\"0 0 24 24\"\n",
              "       width=\"24px\">\n",
              "    <path d=\"M0 0h24v24H0V0z\" fill=\"none\"/>\n",
              "    <path d=\"M18.56 5.44l.94 2.06.94-2.06 2.06-.94-2.06-.94-.94-2.06-.94 2.06-2.06.94zm-11 1L8.5 8.5l.94-2.06 2.06-.94-2.06-.94L8.5 2.5l-.94 2.06-2.06.94zm10 10l.94 2.06.94-2.06 2.06-.94-2.06-.94-.94-2.06-.94 2.06-2.06.94z\"/><path d=\"M17.41 7.96l-1.37-1.37c-.4-.4-.92-.59-1.43-.59-.52 0-1.04.2-1.43.59L10.3 9.45l-7.72 7.72c-.78.78-.78 2.05 0 2.83L4 21.41c.39.39.9.59 1.41.59.51 0 1.02-.2 1.41-.59l7.78-7.78 2.81-2.81c.8-.78.8-2.07 0-2.86zM5.41 20L4 18.59l7.72-7.72 1.47 1.35L5.41 20z\"/>\n",
              "  </svg>\n",
              "      </button>\n",
              "      \n",
              "  <style>\n",
              "    .colab-df-container {\n",
              "      display:flex;\n",
              "      flex-wrap:wrap;\n",
              "      gap: 12px;\n",
              "    }\n",
              "\n",
              "    .colab-df-convert {\n",
              "      background-color: #E8F0FE;\n",
              "      border: none;\n",
              "      border-radius: 50%;\n",
              "      cursor: pointer;\n",
              "      display: none;\n",
              "      fill: #1967D2;\n",
              "      height: 32px;\n",
              "      padding: 0 0 0 0;\n",
              "      width: 32px;\n",
              "    }\n",
              "\n",
              "    .colab-df-convert:hover {\n",
              "      background-color: #E2EBFA;\n",
              "      box-shadow: 0px 1px 2px rgba(60, 64, 67, 0.3), 0px 1px 3px 1px rgba(60, 64, 67, 0.15);\n",
              "      fill: #174EA6;\n",
              "    }\n",
              "\n",
              "    [theme=dark] .colab-df-convert {\n",
              "      background-color: #3B4455;\n",
              "      fill: #D2E3FC;\n",
              "    }\n",
              "\n",
              "    [theme=dark] .colab-df-convert:hover {\n",
              "      background-color: #434B5C;\n",
              "      box-shadow: 0px 1px 3px 1px rgba(0, 0, 0, 0.15);\n",
              "      filter: drop-shadow(0px 1px 2px rgba(0, 0, 0, 0.3));\n",
              "      fill: #FFFFFF;\n",
              "    }\n",
              "  </style>\n",
              "\n",
              "      <script>\n",
              "        const buttonEl =\n",
              "          document.querySelector('#df-5cea7b49-f3f5-494c-91df-e0c78c75c18d button.colab-df-convert');\n",
              "        buttonEl.style.display =\n",
              "          google.colab.kernel.accessAllowed ? 'block' : 'none';\n",
              "\n",
              "        async function convertToInteractive(key) {\n",
              "          const element = document.querySelector('#df-5cea7b49-f3f5-494c-91df-e0c78c75c18d');\n",
              "          const dataTable =\n",
              "            await google.colab.kernel.invokeFunction('convertToInteractive',\n",
              "                                                     [key], {});\n",
              "          if (!dataTable) return;\n",
              "\n",
              "          const docLinkHtml = 'Like what you see? Visit the ' +\n",
              "            '<a target=\"_blank\" href=https://colab.research.google.com/notebooks/data_table.ipynb>data table notebook</a>'\n",
              "            + ' to learn more about interactive tables.';\n",
              "          element.innerHTML = '';\n",
              "          dataTable['output_type'] = 'display_data';\n",
              "          await google.colab.output.renderOutput(dataTable, element);\n",
              "          const docLink = document.createElement('div');\n",
              "          docLink.innerHTML = docLinkHtml;\n",
              "          element.appendChild(docLink);\n",
              "        }\n",
              "      </script>\n",
              "    </div>\n",
              "  </div>\n",
              "  "
            ]
          },
          "metadata": {},
          "execution_count": 4
        }
      ]
    },
    {
      "cell_type": "code",
      "source": [
        "df.info()"
      ],
      "metadata": {
        "colab": {
          "base_uri": "https://localhost:8080/"
        },
        "id": "StqpyzhBdv4N",
        "outputId": "f368f14c-3859-4ea0-8a1c-cfcf50579939"
      },
      "execution_count": 5,
      "outputs": [
        {
          "output_type": "stream",
          "name": "stdout",
          "text": [
            "<class 'pandas.core.frame.DataFrame'>\n",
            "Int64Index: 607 entries, 0 to 606\n",
            "Data columns (total 11 columns):\n",
            " #   Column              Non-Null Count  Dtype \n",
            "---  ------              --------------  ----- \n",
            " 0   work_year           607 non-null    int64 \n",
            " 1   experience_level    607 non-null    object\n",
            " 2   employment_type     607 non-null    object\n",
            " 3   job_title           607 non-null    object\n",
            " 4   salary              607 non-null    int64 \n",
            " 5   salary_currency     607 non-null    object\n",
            " 6   salary_in_usd       607 non-null    int64 \n",
            " 7   employee_residence  607 non-null    object\n",
            " 8   remote_ratio        607 non-null    int64 \n",
            " 9   company_location    607 non-null    object\n",
            " 10  company_size        607 non-null    object\n",
            "dtypes: int64(4), object(7)\n",
            "memory usage: 56.9+ KB\n"
          ]
        }
      ]
    },
    {
      "cell_type": "code",
      "source": [
        "df.corr()"
      ],
      "metadata": {
        "colab": {
          "base_uri": "https://localhost:8080/",
          "height": 175
        },
        "id": "TZFVkyF1dzib",
        "outputId": "4b827777-4181-4e0c-9bab-bf0877438bd4"
      },
      "execution_count": 6,
      "outputs": [
        {
          "output_type": "execute_result",
          "data": {
            "text/plain": [
              "               work_year    salary  salary_in_usd  remote_ratio\n",
              "work_year       1.000000 -0.087577       0.170493      0.076314\n",
              "salary         -0.087577  1.000000      -0.083906     -0.014608\n",
              "salary_in_usd   0.170493 -0.083906       1.000000      0.132122\n",
              "remote_ratio    0.076314 -0.014608       0.132122      1.000000"
            ],
            "text/html": [
              "\n",
              "  <div id=\"df-cf51c07c-7221-41ce-ae8e-e30326f91a05\">\n",
              "    <div class=\"colab-df-container\">\n",
              "      <div>\n",
              "<style scoped>\n",
              "    .dataframe tbody tr th:only-of-type {\n",
              "        vertical-align: middle;\n",
              "    }\n",
              "\n",
              "    .dataframe tbody tr th {\n",
              "        vertical-align: top;\n",
              "    }\n",
              "\n",
              "    .dataframe thead th {\n",
              "        text-align: right;\n",
              "    }\n",
              "</style>\n",
              "<table border=\"1\" class=\"dataframe\">\n",
              "  <thead>\n",
              "    <tr style=\"text-align: right;\">\n",
              "      <th></th>\n",
              "      <th>work_year</th>\n",
              "      <th>salary</th>\n",
              "      <th>salary_in_usd</th>\n",
              "      <th>remote_ratio</th>\n",
              "    </tr>\n",
              "  </thead>\n",
              "  <tbody>\n",
              "    <tr>\n",
              "      <th>work_year</th>\n",
              "      <td>1.000000</td>\n",
              "      <td>-0.087577</td>\n",
              "      <td>0.170493</td>\n",
              "      <td>0.076314</td>\n",
              "    </tr>\n",
              "    <tr>\n",
              "      <th>salary</th>\n",
              "      <td>-0.087577</td>\n",
              "      <td>1.000000</td>\n",
              "      <td>-0.083906</td>\n",
              "      <td>-0.014608</td>\n",
              "    </tr>\n",
              "    <tr>\n",
              "      <th>salary_in_usd</th>\n",
              "      <td>0.170493</td>\n",
              "      <td>-0.083906</td>\n",
              "      <td>1.000000</td>\n",
              "      <td>0.132122</td>\n",
              "    </tr>\n",
              "    <tr>\n",
              "      <th>remote_ratio</th>\n",
              "      <td>0.076314</td>\n",
              "      <td>-0.014608</td>\n",
              "      <td>0.132122</td>\n",
              "      <td>1.000000</td>\n",
              "    </tr>\n",
              "  </tbody>\n",
              "</table>\n",
              "</div>\n",
              "      <button class=\"colab-df-convert\" onclick=\"convertToInteractive('df-cf51c07c-7221-41ce-ae8e-e30326f91a05')\"\n",
              "              title=\"Convert this dataframe to an interactive table.\"\n",
              "              style=\"display:none;\">\n",
              "        \n",
              "  <svg xmlns=\"http://www.w3.org/2000/svg\" height=\"24px\"viewBox=\"0 0 24 24\"\n",
              "       width=\"24px\">\n",
              "    <path d=\"M0 0h24v24H0V0z\" fill=\"none\"/>\n",
              "    <path d=\"M18.56 5.44l.94 2.06.94-2.06 2.06-.94-2.06-.94-.94-2.06-.94 2.06-2.06.94zm-11 1L8.5 8.5l.94-2.06 2.06-.94-2.06-.94L8.5 2.5l-.94 2.06-2.06.94zm10 10l.94 2.06.94-2.06 2.06-.94-2.06-.94-.94-2.06-.94 2.06-2.06.94z\"/><path d=\"M17.41 7.96l-1.37-1.37c-.4-.4-.92-.59-1.43-.59-.52 0-1.04.2-1.43.59L10.3 9.45l-7.72 7.72c-.78.78-.78 2.05 0 2.83L4 21.41c.39.39.9.59 1.41.59.51 0 1.02-.2 1.41-.59l7.78-7.78 2.81-2.81c.8-.78.8-2.07 0-2.86zM5.41 20L4 18.59l7.72-7.72 1.47 1.35L5.41 20z\"/>\n",
              "  </svg>\n",
              "      </button>\n",
              "      \n",
              "  <style>\n",
              "    .colab-df-container {\n",
              "      display:flex;\n",
              "      flex-wrap:wrap;\n",
              "      gap: 12px;\n",
              "    }\n",
              "\n",
              "    .colab-df-convert {\n",
              "      background-color: #E8F0FE;\n",
              "      border: none;\n",
              "      border-radius: 50%;\n",
              "      cursor: pointer;\n",
              "      display: none;\n",
              "      fill: #1967D2;\n",
              "      height: 32px;\n",
              "      padding: 0 0 0 0;\n",
              "      width: 32px;\n",
              "    }\n",
              "\n",
              "    .colab-df-convert:hover {\n",
              "      background-color: #E2EBFA;\n",
              "      box-shadow: 0px 1px 2px rgba(60, 64, 67, 0.3), 0px 1px 3px 1px rgba(60, 64, 67, 0.15);\n",
              "      fill: #174EA6;\n",
              "    }\n",
              "\n",
              "    [theme=dark] .colab-df-convert {\n",
              "      background-color: #3B4455;\n",
              "      fill: #D2E3FC;\n",
              "    }\n",
              "\n",
              "    [theme=dark] .colab-df-convert:hover {\n",
              "      background-color: #434B5C;\n",
              "      box-shadow: 0px 1px 3px 1px rgba(0, 0, 0, 0.15);\n",
              "      filter: drop-shadow(0px 1px 2px rgba(0, 0, 0, 0.3));\n",
              "      fill: #FFFFFF;\n",
              "    }\n",
              "  </style>\n",
              "\n",
              "      <script>\n",
              "        const buttonEl =\n",
              "          document.querySelector('#df-cf51c07c-7221-41ce-ae8e-e30326f91a05 button.colab-df-convert');\n",
              "        buttonEl.style.display =\n",
              "          google.colab.kernel.accessAllowed ? 'block' : 'none';\n",
              "\n",
              "        async function convertToInteractive(key) {\n",
              "          const element = document.querySelector('#df-cf51c07c-7221-41ce-ae8e-e30326f91a05');\n",
              "          const dataTable =\n",
              "            await google.colab.kernel.invokeFunction('convertToInteractive',\n",
              "                                                     [key], {});\n",
              "          if (!dataTable) return;\n",
              "\n",
              "          const docLinkHtml = 'Like what you see? Visit the ' +\n",
              "            '<a target=\"_blank\" href=https://colab.research.google.com/notebooks/data_table.ipynb>data table notebook</a>'\n",
              "            + ' to learn more about interactive tables.';\n",
              "          element.innerHTML = '';\n",
              "          dataTable['output_type'] = 'display_data';\n",
              "          await google.colab.output.renderOutput(dataTable, element);\n",
              "          const docLink = document.createElement('div');\n",
              "          docLink.innerHTML = docLinkHtml;\n",
              "          element.appendChild(docLink);\n",
              "        }\n",
              "      </script>\n",
              "    </div>\n",
              "  </div>\n",
              "  "
            ]
          },
          "metadata": {},
          "execution_count": 6
        }
      ]
    },
    {
      "cell_type": "markdown",
      "source": [
        "# Explora los datos usando herramientas de visualización\n",
        "## Variables cuantitativas:\n",
        "### Medidas de posición: cuartiles, outlier (valores atípicos), boxplots\n",
        "Análisis de distribución de los datos (Histogramas). \n",
        "Identificar si tiene forma simétrica o asimétrica\n",
        "\n",
        "## Variables categóricas\n",
        "# Distribución de los datos (diagramas de barras, diagramas de pastel)\n",
        "\n",
        "Identifica problemas de calidad de datos (registros duplicados, valores faltantes, outliers, etc)."
      ],
      "metadata": {
        "id": "VLIyXfEUhZLA"
      }
    },
    {
      "cell_type": "code",
      "source": [
        "plt.title('salary')\n",
        "plt.boxplot(df.salary) "
      ],
      "metadata": {
        "colab": {
          "base_uri": "https://localhost:8080/",
          "height": 420
        },
        "id": "FNOmay6-d5Do",
        "outputId": "ecfbdd1f-8487-4cce-8b2c-7b44cb729aed"
      },
      "execution_count": 7,
      "outputs": [
        {
          "output_type": "execute_result",
          "data": {
            "text/plain": [
              "{'whiskers': [<matplotlib.lines.Line2D at 0x7fd83fc15f50>,\n",
              "  <matplotlib.lines.Line2D at 0x7fd83fc214d0>],\n",
              " 'caps': [<matplotlib.lines.Line2D at 0x7fd83fc21a10>,\n",
              "  <matplotlib.lines.Line2D at 0x7fd83fc21f50>],\n",
              " 'boxes': [<matplotlib.lines.Line2D at 0x7fd83fc159d0>],\n",
              " 'medians': [<matplotlib.lines.Line2D at 0x7fd83fc28510>],\n",
              " 'fliers': [<matplotlib.lines.Line2D at 0x7fd83fc52f90>],\n",
              " 'means': []}"
            ]
          },
          "metadata": {},
          "execution_count": 7
        },
        {
          "output_type": "display_data",
          "data": {
            "text/plain": [
              "<Figure size 432x288 with 1 Axes>"
            ],
            "image/png": "[encoded data removed]"
          },
          "metadata": {
            "needs_background": "light"
          }
        }
      ]
    },
    {
      "cell_type": "code",
      "source": [
        "plt.title('salary_in_usd\t')\n",
        "plt.boxplot(df.salary_in_usd\t) "
      ],
      "metadata": {
        "colab": {
          "base_uri": "https://localhost:8080/",
          "height": 509
        },
        "id": "0uYuk7-EetJm",
        "outputId": "55e6712d-663c-42e0-fc03-7048697feab5"
      },
      "execution_count": 8,
      "outputs": [
        {
          "output_type": "execute_result",
          "data": {
            "text/plain": [
              "{'whiskers': [<matplotlib.lines.Line2D at 0x7fd83f76f810>,\n",
              "  <matplotlib.lines.Line2D at 0x7fd83f781410>],\n",
              " 'caps': [<matplotlib.lines.Line2D at 0x7fd83f781690>,\n",
              "  <matplotlib.lines.Line2D at 0x7fd83f70b390>],\n",
              " 'boxes': [<matplotlib.lines.Line2D at 0x7fd83f7810d0>],\n",
              " 'medians': [<matplotlib.lines.Line2D at 0x7fd83f70b3d0>],\n",
              " 'fliers': [<matplotlib.lines.Line2D at 0x7fd83f70b910>],\n",
              " 'means': []}"
            ]
          },
          "metadata": {},
          "execution_count": 8
        },
        {
          "output_type": "stream",
          "name": "stderr",
          "text": [
            "/usr/local/lib/python3.7/dist-packages/matplotlib/backends/backend_agg.py:214: RuntimeWarning: Glyph 9 missing from current font.\n",
            "  font.set_text(s, 0.0, flags=flags)\n",
            "/usr/local/lib/python3.7/dist-packages/matplotlib/backends/backend_agg.py:183: RuntimeWarning: Glyph 9 missing from current font.\n",
            "  font.set_text(s, 0, flags=flags)\n"
          ]
        },
        {
          "output_type": "display_data",
          "data": {
            "text/plain": [
              "<Figure size 432x288 with 1 Axes>"
            ],
            "image/png": "[encoded data removed]"
          },
          "metadata": {
            "needs_background": "light"
          }
        }
      ]
    },
    {
      "cell_type": "code",
      "source": [
        "plt.title('remote_ratio')\n",
        "plt.boxplot(df.remote_ratio) "
      ],
      "metadata": {
        "colab": {
          "base_uri": "https://localhost:8080/",
          "height": 420
        },
        "id": "aMrdqLBQe1Oi",
        "outputId": "babe976f-f14e-463e-91e6-c22a2dc44b1e"
      },
      "execution_count": 9,
      "outputs": [
        {
          "output_type": "execute_result",
          "data": {
            "text/plain": [
              "{'whiskers': [<matplotlib.lines.Line2D at 0x7fd83f6f9510>,\n",
              "  <matplotlib.lines.Line2D at 0x7fd83f689110>],\n",
              " 'caps': [<matplotlib.lines.Line2D at 0x7fd83f689610>,\n",
              "  <matplotlib.lines.Line2D at 0x7fd83f68f090>],\n",
              " 'boxes': [<matplotlib.lines.Line2D at 0x7fd83f684d90>],\n",
              " 'medians': [<matplotlib.lines.Line2D at 0x7fd83f68f0d0>],\n",
              " 'fliers': [<matplotlib.lines.Line2D at 0x7fd83f68f610>],\n",
              " 'means': []}"
            ]
          },
          "metadata": {},
          "execution_count": 9
        },
        {
          "output_type": "display_data",
          "data": {
            "text/plain": [
              "<Figure size 432x288 with 1 Axes>"
            ],
            "image/png": "[encoded data removed]"
          },
          "metadata": {
            "needs_background": "light"
          }
        }
      ]
    },
    {
      "cell_type": "code",
      "source": [
        "df.boxplot(column=['salary', 'remote_ratio', 'salary_in_usd'])"
      ],
      "metadata": {
        "colab": {
          "base_uri": "https://localhost:8080/",
          "height": 294
        },
        "id": "RQt_lxoxe9EB",
        "outputId": "c9561c43-011a-4529-8fdf-a8ce202b4a1c"
      },
      "execution_count": 10,
      "outputs": [
        {
          "output_type": "execute_result",
          "data": {
            "text/plain": [
              "<matplotlib.axes._subplots.AxesSubplot at 0x7fd83f6b84d0>"
            ]
          },
          "metadata": {},
          "execution_count": 10
        },
        {
          "output_type": "display_data",
          "data": {
            "text/plain": [
              "<Figure size 432x288 with 1 Axes>"
            ],
            "image/png": "[encoded data removed]"
          },
          "metadata": {
            "needs_background": "light"
          }
        }
      ]
    },
    {
      "cell_type": "code",
      "source": [
        "df['experience_level'].unique()"
      ],
      "metadata": {
        "colab": {
          "base_uri": "https://localhost:8080/"
        },
        "id": "l1DBk7HVfKN0",
        "outputId": "7aa6a2c2-f9f2-40dd-9504-b8f7092cb0bd"
      },
      "execution_count": 11,
      "outputs": [
        {
          "output_type": "execute_result",
          "data": {
            "text/plain": [
              "array(['MI', 'SE', 'EN', 'EX'], dtype=object)"
            ]
          },
          "metadata": {},
          "execution_count": 11
        }
      ]
    },
    {
      "cell_type": "code",
      "source": [
        "for column in df:\n",
        "    print(df[column].unique())"
      ],
      "metadata": {
        "colab": {
          "base_uri": "https://localhost:8080/"
        },
        "id": "39kStIWCfYYD",
        "outputId": "27ffe77b-3264-4bbc-882f-76b8a232e177"
      },
      "execution_count": 12,
      "outputs": [
        {
          "output_type": "stream",
          "name": "stdout",
          "text": [
            "[2020 2021 2022]\n",
            "['MI' 'SE' 'EN' 'EX']\n",
            "['FT' 'CT' 'PT' 'FL']\n",
            "['Data Scientist' 'Machine Learning Scientist' 'Big Data Engineer'\n",
            " 'Product Data Analyst' 'Machine Learning Engineer' 'Data Analyst'\n",
            " 'Lead Data Scientist' 'Business Data Analyst' 'Lead Data Engineer'\n",
            " 'Lead Data Analyst' 'Data Engineer' 'Data Science Consultant'\n",
            " 'BI Data Analyst' 'Director of Data Science' 'Research Scientist'\n",
            " 'Machine Learning Manager' 'Data Engineering Manager'\n",
            " 'Machine Learning Infrastructure Engineer' 'ML Engineer' 'AI Scientist'\n",
            " 'Computer Vision Engineer' 'Principal Data Scientist'\n",
            " 'Data Science Manager' 'Head of Data' '3D Computer Vision Researcher'\n",
            " 'Data Analytics Engineer' 'Applied Data Scientist'\n",
            " 'Marketing Data Analyst' 'Cloud Data Engineer' 'Financial Data Analyst'\n",
            " 'Computer Vision Software Engineer' 'Director of Data Engineering'\n",
            " 'Data Science Engineer' 'Principal Data Engineer'\n",
            " 'Machine Learning Developer' 'Applied Machine Learning Scientist'\n",
            " 'Data Analytics Manager' 'Head of Data Science' 'Data Specialist'\n",
            " 'Data Architect' 'Finance Data Analyst' 'Principal Data Analyst'\n",
            " 'Big Data Architect' 'Staff Data Scientist' 'Analytics Engineer'\n",
            " 'ETL Developer' 'Head of Machine Learning' 'NLP Engineer'\n",
            " 'Lead Machine Learning Engineer' 'Data Analytics Lead']\n",
            "[   70000   260000    85000    20000   150000    72000   190000 11000000\n",
            "   135000   125000    45000  3000000    35000    87000     8000  4450000\n",
            "   100000   423000    56000   299000   450000    42000    98000   115000\n",
            "   325000   720000   157000    51999    60000    41000    65000   103000\n",
            "   250000    10000   138000    45760    44000   106000    88000    14000\n",
            "   188000   105000    61500    91000   300000    48000   130000    34000\n",
            "   118000   120000   138350   110000   130800    19000   412000    40000\n",
            "    55000    43200   190200    80000    37000   235000   400000   270000\n",
            "    67000   140000    68000    50000   170000    75000  1450000   276000\n",
            "  2200000    12000    81000    62000    73000    37456  2250000    82500\n",
            "    38400   225000    90000   200000     8760   151000   700000    24000\n",
            "  7000000  8500000   220000   240000    53000   153000   160000   168000\n",
            "    95000    13400   144000   159500   230000    54000   165000    51400\n",
            "   174000    58000 30400000   420000  1672000    76760    22000     4000\n",
            "    59000    74000   152000    21844    18000   120500   147000     9272\n",
            "  1799997  4000000    52000   195000    32000    69600    21000   435000\n",
            "   185000   180000  2500000    40900   416000  1200000   256000    39600\n",
            "  1600000  1335000    52500    31000   108000   600000  2100000    93000\n",
            "  1250000  4900000    21600    93150   111775    72500   102000    65720\n",
            "   112000    69999   109000   155000   120600   102100    84900   136620\n",
            "    99360   146000   123000    99000   116000   106260   126500   242000\n",
            "    30000   165220   120160    90320   181940   132320   220110   160080\n",
            "   124190   115500   112900   165400   167000   243900   136600   109280\n",
            "   128875    93700   224000   167875   175000   156600   108800    95550\n",
            "   113000   161342   137141   211500   192400    90700    61300   138600\n",
            "   136000   189650   164996   132000   208775   147800   136994   101570\n",
            "  6000000    28500   164000   145000   105400   215300   158200   209100\n",
            "   154600   115934    81666   183600    63900   112300   241000   159000\n",
            "    82900   100800   140400  1400000  2400000   148000   104890   185100\n",
            "   324000   216000   210000    29000    52800    66500    57000   121000\n",
            "   152500   380000   405000   177000    78000   214000   192600   266400\n",
            "   213120   141300   206699    99100   110500    99050   205300   176000\n",
            "   200100    70500   184700   175100   140250   116150    69000   150075\n",
            "    25000   110925   192564   144854   150260   154000   126000   129000]\n",
            "['EUR' 'USD' 'GBP' 'HUF' 'INR' 'JPY' 'CNY' 'MXN' 'CAD' 'DKK' 'PLN' 'SGD'\n",
            " 'CLP' 'BRL' 'TRY' 'AUD' 'CHF']\n",
            "[ 79833 260000 109024  20000 150000  72000 190000  35735 135000 125000\n",
            "  51321  40481  39916  87000  85000   8000  41689 114047   5707  56000\n",
            "  43331   6072  47899  98000 115000 325000  42000  33511 100000 117104\n",
            "  59303  70000  68428 450000  46759  74130 103000 250000  10000 138000\n",
            "  45760  50180 106000 112872  15966  76958 188000 105000  70139  91000\n",
            "  45896  54742  60000 148261  38776 118000 120000 138350 110000 130800\n",
            "  21669 412000  45618  62726  49268 190200  91237  42197  82528 235000\n",
            "  53192   5409 270000  80000  79197 140000  54238  47282 153667  28476\n",
            "  59102 170000  88654  76833  19609 276000  29751  89294  12000  95746\n",
            "  75000  36259  62000  73000  51519 187442  30428  94564 113476 103160\n",
            "  45391 225000  50000  40189  90000 200000 110037  10354 151000   9466\n",
            "  40570  49646  38400  24000  63711  77364 220000 240000  82500  82744\n",
            "  62649 153000 160000 168000  75774  13400 144000 127221 119059 423000\n",
            " 230000  28369  63831 130026 165000  55000  60757 174000   2859  40038\n",
            "  81000   5679  22611  90734  26005  61896   4000  69741  74000 152000\n",
            "  21844  18000  96113 147000   9272  24342  54094  61467 195000  37825\n",
            "  12901  24823  56738  66022   5882 185000  28609  46597 116914  33808\n",
            "  56256 416000  87738  71786  16228 256000 180000  63810  46809  21637\n",
            " 103691  18053  72212  36643  12103  96282 600000  28399  93000  99703\n",
            " 173762 141846 130000  16904  66265  25532  93150 111775  28016  65013\n",
            "  72500  18907  77684  58000  20171 112000  69999  94665 102839 109000\n",
            "  51064 155000 120600 102100  84900 136620  99360 117789 104702 146000\n",
            " 123000  52351  99000 116000 106260 126500 242000  65438  39263  78526\n",
            " 165220  45807 120160  90320 181940 132320 220110 160080 124190 115500\n",
            " 112900 165400 167000 243900 136600 109280 128875  93700 224000 167875\n",
            " 175000 156600 108800  95550 113000 161342 137141 211500 192400  90700\n",
            "  61300 138600 136000 189650 164996  54957 118187 132000 208775 147800\n",
            " 136994 101570  79039  37300 164000 124333  98158 145000 105400  87932\n",
            " 215300 158200 209100 154600 115934  81666 183600  71982  65949  49461\n",
            "  58894  63900 112300 241000 159000  82900 100800 140400  43966  32974\n",
            "  76940  91614  21983  78791 196979  37236  18442  31615  58255 162674\n",
            " 104890 183228 185100  65000 324000 216000 210000  31875  35590  58035\n",
            "  93427  52396  62651  40000  87425  86703  64849 157000  70912  71444\n",
            "  48000 152500  68147 122346 380000  69336 405000 177000  78000 214000\n",
            " 192600 266400 213120 141300 206699  99100 110500  99050 205300 176000\n",
            " 200100  70500 184700 175100 140250 116150  54000  69000 150075  25000\n",
            " 110925 192564 144854 150260  67000  52000 154000 126000 129000]\n",
            "['DE' 'JP' 'GB' 'HN' 'US' 'HU' 'NZ' 'FR' 'IN' 'PK' 'PL' 'PT' 'CN' 'GR'\n",
            " 'AE' 'NL' 'MX' 'CA' 'AT' 'NG' 'PH' 'ES' 'DK' 'RU' 'IT' 'HR' 'BG' 'SG'\n",
            " 'BR' 'IQ' 'VN' 'BE' 'UA' 'MT' 'CL' 'RO' 'IR' 'CO' 'MD' 'KE' 'SI' 'HK'\n",
            " 'TR' 'RS' 'PR' 'LU' 'JE' 'CZ' 'AR' 'DZ' 'TN' 'MY' 'EE' 'AU' 'BO' 'IE'\n",
            " 'CH']\n",
            "[  0  50 100]\n",
            "['DE' 'JP' 'GB' 'HN' 'US' 'HU' 'NZ' 'FR' 'IN' 'PK' 'CN' 'GR' 'AE' 'NL'\n",
            " 'MX' 'CA' 'AT' 'NG' 'ES' 'PT' 'DK' 'IT' 'HR' 'LU' 'PL' 'SG' 'RO' 'IQ'\n",
            " 'BR' 'BE' 'UA' 'IL' 'RU' 'MT' 'CL' 'IR' 'CO' 'MD' 'KE' 'SI' 'CH' 'VN'\n",
            " 'AS' 'TR' 'CZ' 'DZ' 'EE' 'MY' 'AU' 'IE']\n",
            "['L' 'S' 'M']\n"
          ]
        }
      ]
    },
    {
      "cell_type": "code",
      "source": [
        "plt.figure(figsize=(15,10))\n",
        "sns.pairplot(df,hue=\"salary_in_usd\")\n",
        "plt.title(\"Looking for Insites in Data\")\n",
        "plt.legend(\"status\")\n",
        "plt.tight_layout()\n",
        "plt.plot()"
      ],
      "metadata": {
        "id": "Navq3CyKgbUG",
        "colab": {
          "base_uri": "https://localhost:8080/",
          "height": 584
        },
        "outputId": "e5d2c72e-9893-4544-8822-dcd953859044"
      },
      "execution_count": 13,
      "outputs": [
        {
          "output_type": "execute_result",
          "data": {
            "text/plain": [
              "[]"
            ]
          },
          "metadata": {},
          "execution_count": 13
        },
        {
          "output_type": "display_data",
          "data": {
            "text/plain": [
              "<Figure size 1080x720 with 0 Axes>"
            ]
          },
          "metadata": {}
        },
        {
          "output_type": "display_data",
          "data": {
            "text/plain": [
              "<Figure size 615.625x540 with 12 Axes>"
            ],
            "image/png": "[encoded data removed]"
          },
          "metadata": {
            "needs_background": "light"
          }
        }
      ]
    },
    {
      "cell_type": "code",
      "source": [
        "plt.figure(figsize=(15,10))\n",
        "\n",
        "for i,col in enumerate(df.columns,1):\n",
        "  plt.subplot(5,4,i)\n",
        "  plt.title(f\"Distribution of {col} Data\")\n",
        "  sns.histplot(df[col],kde=True)\n",
        "  plt.tight_layout()\n",
        "  plt.plot()"
      ],
      "metadata": {
        "id": "rmqRUaqDhuyM",
        "colab": {
          "base_uri": "https://localhost:8080/",
          "height": 375
        },
        "outputId": "c2c8dc2b-5057-4575-d159-3a9c6b00ac01"
      },
      "execution_count": 14,
      "outputs": [
        {
          "output_type": "display_data",
          "data": {
            "text/plain": [
              "<Figure size 1080x720 with 11 Axes>"
            ],
            "image/png": "[encoded data removed]"
          },
          "metadata": {
            "needs_background": "light"
          }
        }
      ]
    },
    {
      "cell_type": "code",
      "source": [
        "plt.figure(figsize=(25, 6))\n",
        "\n",
        "plt.subplot(1,3,1)\n",
        "plt1 = df.experience_level.value_counts().plot(kind = 'bar')\n",
        "plt.title('experience_level Histogram')\n",
        "plt1.set(xlabel = 'experience_level', ylabel='Frequency of experience_level')\n",
        "plt.subplot(1,3,2)\n",
        "plt1 = df.employment_type.value_counts().plot(kind = 'bar')\n",
        "plt.title('employment_type Histogram')\n",
        "plt1.set(xlabel = 'employment_type Type', ylabel='Frequency of employment_type')\n",
        "plt.subplot(1,3,3)\n",
        "plt1 = df.company_size.value_counts().plot(kind = 'bar')\n",
        "plt.title('company_size Histogram')\n",
        "plt1.set(xlabel = 'company_size', ylabel='Frequency of company_size')\n",
        "plt.show()"
      ],
      "metadata": {
        "id": "TQbGDCVzh299",
        "colab": {
          "base_uri": "https://localhost:8080/",
          "height": 249
        },
        "outputId": "82b51ddc-0ff6-47e3-ff30-2b33bb9a07c0"
      },
      "execution_count": 15,
      "outputs": [
        {
          "output_type": "display_data",
          "data": {
            "text/plain": [
              "<Figure size 1800x432 with 3 Axes>"
            ],
            "image/png": "[encoded data removed]"
          },
          "metadata": {
            "needs_background": "light"
          }
        }
      ]
    },
    {
      "cell_type": "code",
      "source": [
        "plt.figure(figsize=(25, 6))\n",
        "\n",
        "plt.subplot(1,3,1)\n",
        "plt1 = df.work_year.value_counts().plot(kind = 'bar')\n",
        "plt.title('work_year Histogram')\n",
        "plt1.set(xlabel = 'work_year', ylabel='Frequency of work_year')\n",
        "plt.subplot(1,3,2)\n",
        "plt1 = df.company_location.value_counts().plot(kind = 'bar')\n",
        "plt.title('company_location Histogram')\n",
        "plt1.set(xlabel = 'company_location Type', ylabel='Frequency of company_location')\n",
        "plt.subplot(1,3,3)\n",
        "plt1 = df.remote_ratio.value_counts().plot(kind = 'bar')\n",
        "plt.title('remote_ratio Histogram')\n",
        "plt1.set(xlabel = 'remote_ratio', ylabel='Frequency of remote_ratio')\n",
        "plt.show()"
      ],
      "metadata": {
        "colab": {
          "base_uri": "https://localhost:8080/",
          "height": 255
        },
        "id": "cWj_wh55fjR9",
        "outputId": "9bb49596-bc4f-46e4-f38a-a2c32d8bd728"
      },
      "execution_count": 16,
      "outputs": [
        {
          "output_type": "display_data",
          "data": {
            "text/plain": [
              "<Figure size 1800x432 with 3 Axes>"
            ],
            "image/png": "[encoded data removed]"
          },
          "metadata": {
            "needs_background": "light"
          }
        }
      ]
    },
    {
      "cell_type": "code",
      "source": [
        "plt.figure(figsize=(25, 6))\n",
        "\n",
        "plt.subplot(1,3,1)\n",
        "plt1 = df.salary_in_usd.value_counts().plot(kind = 'bar')\n",
        "plt.title('salary_in_usd Histogram')\n",
        "plt1.set(xlabel = 'salary_in_usd', ylabel='Frequency of salary_in_usd')\n",
        "plt.subplot(1,3,2)\n",
        "plt1 = df.salary_currency.value_counts().plot(kind = 'bar')\n",
        "plt.title('salary_currency Histogram')\n",
        "plt1.set(xlabel = 'salary_currency Type', ylabel='Frequency of salary_currency')\n",
        "plt.subplot(1,3,3)\n",
        "plt1 = df.salary.value_counts().plot(kind = 'bar')\n",
        "plt.title('salary Histogram')\n",
        "plt1.set(xlabel = 'salary', ylabel='Frequency of salary')\n",
        "plt.show()"
      ],
      "metadata": {
        "colab": {
          "base_uri": "https://localhost:8080/",
          "height": 270
        },
        "id": "pFRw6O2hggo0",
        "outputId": "4cbc082d-d753-4857-f3e5-94a1d5c8da21"
      },
      "execution_count": 17,
      "outputs": [
        {
          "output_type": "display_data",
          "data": {
            "text/plain": [
              "<Figure size 1800x432 with 3 Axes>"
            ],
            "image/png": "[encoded data removed]"
          },
          "metadata": {
            "needs_background": "light"
          }
        }
      ]
    },
    {
      "cell_type": "markdown",
      "source": [
        "# Identifica problemas de calidad de datos (registros duplicados, valores faltantes, outliers, etc)."
      ],
      "metadata": {
        "id": "hXcOPhB3qsp7"
      }
    },
    {
      "cell_type": "code",
      "source": [
        "df.boxplot(column=['salary_in_usd'])"
      ],
      "metadata": {
        "colab": {
          "base_uri": "https://localhost:8080/",
          "height": 283
        },
        "id": "341KYjiWoj_5",
        "outputId": "aa84bc54-2f83-4cfb-94cf-fdea43219735"
      },
      "execution_count": 18,
      "outputs": [
        {
          "output_type": "execute_result",
          "data": {
            "text/plain": [
              "<matplotlib.axes._subplots.AxesSubplot at 0x7fd83b5a4d90>"
            ]
          },
          "metadata": {},
          "execution_count": 18
        },
        {
          "output_type": "display_data",
          "data": {
            "text/plain": [
              "<Figure size 432x288 with 1 Axes>"
            ],
            "image/png": "[encoded data removed]"
          },
          "metadata": {
            "needs_background": "light"
          }
        }
      ]
    },
    {
      "cell_type": "code",
      "source": [
        "cols = ['salary_in_usd']\n",
        "Q1 = df[cols].quantile(0.25)\n",
        "Q3 = df[cols].quantile(0.75)\n",
        "IQR = Q3 - Q1\n",
        "df = df[~((df[cols] < (Q1 - 1.5 * IQR)) |(df[cols] > (Q3 + 1.5 * IQR))).any(axis=1)]"
      ],
      "metadata": {
        "id": "NIpJe1LRq77w"
      },
      "execution_count": 19,
      "outputs": []
    },
    {
      "cell_type": "code",
      "source": [
        "df.boxplot(column=['salary_in_usd'])"
      ],
      "metadata": {
        "colab": {
          "base_uri": "https://localhost:8080/",
          "height": 283
        },
        "id": "LdpkPvywrLkr",
        "outputId": "e36c39bb-5d38-486e-c85c-7c3b2d5d5d9a"
      },
      "execution_count": 20,
      "outputs": [
        {
          "output_type": "execute_result",
          "data": {
            "text/plain": [
              "<matplotlib.axes._subplots.AxesSubplot at 0x7fd839ad4d10>"
            ]
          },
          "metadata": {},
          "execution_count": 20
        },
        {
          "output_type": "display_data",
          "data": {
            "text/plain": [
              "<Figure size 432x288 with 1 Axes>"
            ],
            "image/png": "[encoded data removed]"
          },
          "metadata": {
            "needs_background": "light"
          }
        }
      ]
    },
    {
      "cell_type": "code",
      "source": [
        "df.describe()"
      ],
      "metadata": {
        "colab": {
          "base_uri": "https://localhost:8080/",
          "height": 300
        },
        "id": "_jrH7H7TAMVM",
        "outputId": "d4881389-c000-4380-a175-f42a0d0c6ace"
      },
      "execution_count": 23,
      "outputs": [
        {
          "output_type": "execute_result",
          "data": {
            "text/plain": [
              "         work_year        salary  salary_in_usd  remote_ratio\n",
              "count   597.000000  5.970000e+02     597.000000    597.000000\n",
              "mean   2021.412060  3.224171e+05  107168.855946     70.686767\n",
              "std       0.688634  1.557181e+06   58555.516292     40.797800\n",
              "min    2020.000000  4.000000e+03    2859.000000      0.000000\n",
              "25%    2021.000000  6.999900e+04   62649.000000     50.000000\n",
              "50%    2022.000000  1.129000e+05  100000.000000    100.000000\n",
              "75%    2022.000000  1.600000e+05  148261.000000    100.000000\n",
              "max    2022.000000  3.040000e+07  276000.000000    100.000000"
            ],
            "text/html": [
              "\n",
              "  <div id=\"df-ce11c8d8-d364-48be-8b40-59139f14aff3\">\n",
              "    <div class=\"colab-df-container\">\n",
              "      <div>\n",
              "<style scoped>\n",
              "    .dataframe tbody tr th:only-of-type {\n",
              "        vertical-align: middle;\n",
              "    }\n",
              "\n",
              "    .dataframe tbody tr th {\n",
              "        vertical-align: top;\n",
              "    }\n",
              "\n",
              "    .dataframe thead th {\n",
              "        text-align: right;\n",
              "    }\n",
              "</style>\n",
              "<table border=\"1\" class=\"dataframe\">\n",
              "  <thead>\n",
              "    <tr style=\"text-align: right;\">\n",
              "      <th></th>\n",
              "      <th>work_year</th>\n",
              "      <th>salary</th>\n",
              "      <th>salary_in_usd</th>\n",
              "      <th>remote_ratio</th>\n",
              "    </tr>\n",
              "  </thead>\n",
              "  <tbody>\n",
              "    <tr>\n",
              "      <th>count</th>\n",
              "      <td>597.000000</td>\n",
              "      <td>5.970000e+02</td>\n",
              "      <td>597.000000</td>\n",
              "      <td>597.000000</td>\n",
              "    </tr>\n",
              "    <tr>\n",
              "      <th>mean</th>\n",
              "      <td>2021.412060</td>\n",
              "      <td>3.224171e+05</td>\n",
              "      <td>107168.855946</td>\n",
              "      <td>70.686767</td>\n",
              "    </tr>\n",
              "    <tr>\n",
              "      <th>std</th>\n",
              "      <td>0.688634</td>\n",
              "      <td>1.557181e+06</td>\n",
              "      <td>58555.516292</td>\n",
              "      <td>40.797800</td>\n",
              "    </tr>\n",
              "    <tr>\n",
              "      <th>min</th>\n",
              "      <td>2020.000000</td>\n",
              "      <td>4.000000e+03</td>\n",
              "      <td>2859.000000</td>\n",
              "      <td>0.000000</td>\n",
              "    </tr>\n",
              "    <tr>\n",
              "      <th>25%</th>\n",
              "      <td>2021.000000</td>\n",
              "      <td>6.999900e+04</td>\n",
              "      <td>62649.000000</td>\n",
              "      <td>50.000000</td>\n",
              "    </tr>\n",
              "    <tr>\n",
              "      <th>50%</th>\n",
              "      <td>2022.000000</td>\n",
              "      <td>1.129000e+05</td>\n",
              "      <td>100000.000000</td>\n",
              "      <td>100.000000</td>\n",
              "    </tr>\n",
              "    <tr>\n",
              "      <th>75%</th>\n",
              "      <td>2022.000000</td>\n",
              "      <td>1.600000e+05</td>\n",
              "      <td>148261.000000</td>\n",
              "      <td>100.000000</td>\n",
              "    </tr>\n",
              "    <tr>\n",
              "      <th>max</th>\n",
              "      <td>2022.000000</td>\n",
              "      <td>3.040000e+07</td>\n",
              "      <td>276000.000000</td>\n",
              "      <td>100.000000</td>\n",
              "    </tr>\n",
              "  </tbody>\n",
              "</table>\n",
              "</div>\n",
              "      <button class=\"colab-df-convert\" onclick=\"convertToInteractive('df-ce11c8d8-d364-48be-8b40-59139f14aff3')\"\n",
              "              title=\"Convert this dataframe to an interactive table.\"\n",
              "              style=\"display:none;\">\n",
              "        \n",
              "  <svg xmlns=\"http://www.w3.org/2000/svg\" height=\"24px\"viewBox=\"0 0 24 24\"\n",
              "       width=\"24px\">\n",
              "    <path d=\"M0 0h24v24H0V0z\" fill=\"none\"/>\n",
              "    <path d=\"M18.56 5.44l.94 2.06.94-2.06 2.06-.94-2.06-.94-.94-2.06-.94 2.06-2.06.94zm-11 1L8.5 8.5l.94-2.06 2.06-.94-2.06-.94L8.5 2.5l-.94 2.06-2.06.94zm10 10l.94 2.06.94-2.06 2.06-.94-2.06-.94-.94-2.06-.94 2.06-2.06.94z\"/><path d=\"M17.41 7.96l-1.37-1.37c-.4-.4-.92-.59-1.43-.59-.52 0-1.04.2-1.43.59L10.3 9.45l-7.72 7.72c-.78.78-.78 2.05 0 2.83L4 21.41c.39.39.9.59 1.41.59.51 0 1.02-.2 1.41-.59l7.78-7.78 2.81-2.81c.8-.78.8-2.07 0-2.86zM5.41 20L4 18.59l7.72-7.72 1.47 1.35L5.41 20z\"/>\n",
              "  </svg>\n",
              "      </button>\n",
              "      \n",
              "  <style>\n",
              "    .colab-df-container {\n",
              "      display:flex;\n",
              "      flex-wrap:wrap;\n",
              "      gap: 12px;\n",
              "    }\n",
              "\n",
              "    .colab-df-convert {\n",
              "      background-color: #E8F0FE;\n",
              "      border: none;\n",
              "      border-radius: 50%;\n",
              "      cursor: pointer;\n",
              "      display: none;\n",
              "      fill: #1967D2;\n",
              "      height: 32px;\n",
              "      padding: 0 0 0 0;\n",
              "      width: 32px;\n",
              "    }\n",
              "\n",
              "    .colab-df-convert:hover {\n",
              "      background-color: #E2EBFA;\n",
              "      box-shadow: 0px 1px 2px rgba(60, 64, 67, 0.3), 0px 1px 3px 1px rgba(60, 64, 67, 0.15);\n",
              "      fill: #174EA6;\n",
              "    }\n",
              "\n",
              "    [theme=dark] .colab-df-convert {\n",
              "      background-color: #3B4455;\n",
              "      fill: #D2E3FC;\n",
              "    }\n",
              "\n",
              "    [theme=dark] .colab-df-convert:hover {\n",
              "      background-color: #434B5C;\n",
              "      box-shadow: 0px 1px 3px 1px rgba(0, 0, 0, 0.15);\n",
              "      filter: drop-shadow(0px 1px 2px rgba(0, 0, 0, 0.3));\n",
              "      fill: #FFFFFF;\n",
              "    }\n",
              "  </style>\n",
              "\n",
              "      <script>\n",
              "        const buttonEl =\n",
              "          document.querySelector('#df-ce11c8d8-d364-48be-8b40-59139f14aff3 button.colab-df-convert');\n",
              "        buttonEl.style.display =\n",
              "          google.colab.kernel.accessAllowed ? 'block' : 'none';\n",
              "\n",
              "        async function convertToInteractive(key) {\n",
              "          const element = document.querySelector('#df-ce11c8d8-d364-48be-8b40-59139f14aff3');\n",
              "          const dataTable =\n",
              "            await google.colab.kernel.invokeFunction('convertToInteractive',\n",
              "                                                     [key], {});\n",
              "          if (!dataTable) return;\n",
              "\n",
              "          const docLinkHtml = 'Like what you see? Visit the ' +\n",
              "            '<a target=\"_blank\" href=https://colab.research.google.com/notebooks/data_table.ipynb>data table notebook</a>'\n",
              "            + ' to learn more about interactive tables.';\n",
              "          element.innerHTML = '';\n",
              "          dataTable['output_type'] = 'display_data';\n",
              "          await google.colab.output.renderOutput(dataTable, element);\n",
              "          const docLink = document.createElement('div');\n",
              "          docLink.innerHTML = docLinkHtml;\n",
              "          element.appendChild(docLink);\n",
              "        }\n",
              "      </script>\n",
              "    </div>\n",
              "  </div>\n",
              "  "
            ]
          },
          "metadata": {},
          "execution_count": 23
        }
      ]
    },
    {
      "cell_type": "markdown",
      "source": [
        "De acuerdo con la información obtenida, una estimación del salario al que puede aspirar un científico de datos es de $107,168 dólares."
      ],
      "metadata": {
        "id": "Bx2RShAKAZUM"
      }
    },
    {
      "cell_type": "code",
      "source": [
        "df.groupby(\"company_location\", sort = True)[\"salary_in_usd\"].mean()"
      ],
      "metadata": {
        "colab": {
          "base_uri": "https://localhost:8080/"
        },
        "id": "3rfG6hLSAj_M",
        "outputId": "9beab375-5ed4-4fb3-d3c6-9c9342355f60"
      },
      "execution_count": 25,
      "outputs": [
        {
          "output_type": "execute_result",
          "data": {
            "text/plain": [
              "company_location\n",
              "AE    100000.000000\n",
              "AS     18053.000000\n",
              "AT     72920.750000\n",
              "AU    108042.666667\n",
              "BE     85699.000000\n",
              "BR     18602.666667\n",
              "CA     99823.733333\n",
              "CH     64114.000000\n",
              "CL     40038.000000\n",
              "CN     71665.500000\n",
              "CO     21844.000000\n",
              "CZ     50937.000000\n",
              "DE     81887.214286\n",
              "DK     54386.333333\n",
              "DZ    100000.000000\n",
              "EE     32974.000000\n",
              "ES     53060.142857\n",
              "FR     63970.666667\n",
              "GB     81583.042553\n",
              "GR     52293.090909\n",
              "HN     20000.000000\n",
              "HR     45618.000000\n",
              "HU     35735.000000\n",
              "IE     71444.000000\n",
              "IL    119059.000000\n",
              "IN     28581.750000\n",
              "IQ    100000.000000\n",
              "IR      4000.000000\n",
              "IT     36366.500000\n",
              "JP    114127.333333\n",
              "KE      9272.000000\n",
              "LU     43942.666667\n",
              "MD     18000.000000\n",
              "MT     28369.000000\n",
              "MX     32123.333333\n",
              "MY     40000.000000\n",
              "NG     30000.000000\n",
              "NL     54945.750000\n",
              "NZ    125000.000000\n",
              "PK     13333.333333\n",
              "PL     66082.500000\n",
              "PT     47793.750000\n",
              "RO     60000.000000\n",
              "RU    157500.000000\n",
              "SG     89294.000000\n",
              "SI     63831.000000\n",
              "TR     20096.666667\n",
              "UA     13400.000000\n",
              "US    136100.342029\n",
              "VN      4000.000000\n",
              "Name: salary_in_usd, dtype: float64"
            ]
          },
          "metadata": {},
          "execution_count": 25
        }
      ]
    },
    {
      "cell_type": "markdown",
      "source": [
        "El país que más paga es Rusia con un promedio de $157,500 dólares de media."
      ],
      "metadata": {
        "id": "llST6e09BK7w"
      }
    },
    {
      "cell_type": "code",
      "source": [
        "df.groupby(\"experience_level\", sort = True)[\"salary_in_usd\"].mean()"
      ],
      "metadata": {
        "colab": {
          "base_uri": "https://localhost:8080/"
        },
        "id": "j5i0HdKyBVZo",
        "outputId": "c0de4773-20f8-4ae0-946d-4171d11eb951"
      },
      "execution_count": 26,
      "outputs": [
        {
          "output_type": "execute_result",
          "data": {
            "text/plain": [
              "experience_level\n",
              "EN     61643.318182\n",
              "EX    159963.318182\n",
              "MI     82953.142857\n",
              "SE    135797.263538\n",
              "Name: salary_in_usd, dtype: float64"
            ]
          },
          "metadata": {},
          "execution_count": 26
        }
      ]
    },
    {
      "cell_type": "markdown",
      "source": [
        "El nivel de experiencia sí influye en el salario ya que los Expertos o Directores son los que tienen mejores salarios, en promedio."
      ],
      "metadata": {
        "id": "Yr3lBkeqBlaW"
      }
    },
    {
      "cell_type": "markdown",
      "source": [
        "# Preparación de los datos:\n",
        "Selecciona el conjunto de datos a utilizar.\n",
        "Decide qué conjunto de datos se utilizará. Identifica variables objetivo. En caso necesario, explica por qué se incluyeron o excluyeron variables.\n",
        "Maneja datos categóricos: transforma a datos numéricos si es necesario.\n",
        "En caso de necesidad de recorte de datos (atípicos, faltantes, duplicados, etc), explica el motivo de la reducción.\n",
        "Maneja apropiadamente datos atípicos.\n",
        "Transforma los datos en caso necesario.\n",
        "Revisa si es necesario discretizar los datos\n",
        "Revisa si es necesario escalar y normalizar los datos\n",
        "Construye atributos si es conveniente"
      ],
      "metadata": {
        "id": "ah_i3wYytnhT"
      }
    },
    {
      "cell_type": "code",
      "source": [
        "df"
      ],
      "metadata": {
        "colab": {
          "base_uri": "https://localhost:8080/",
          "height": 713
        },
        "id": "N3dxM6nOtjmE",
        "outputId": "54de1093-740c-46b7-cf5c-11eb08cf3aa9"
      },
      "execution_count": 21,
      "outputs": [
        {
          "output_type": "execute_result",
          "data": {
            "text/plain": [
              "     work_year experience_level employment_type                   job_title  \\\n",
              "0         2020               MI              FT              Data Scientist   \n",
              "1         2020               SE              FT  Machine Learning Scientist   \n",
              "2         2020               SE              FT           Big Data Engineer   \n",
              "3         2020               MI              FT        Product Data Analyst   \n",
              "4         2020               SE              FT   Machine Learning Engineer   \n",
              "..         ...              ...             ...                         ...   \n",
              "602       2022               SE              FT               Data Engineer   \n",
              "603       2022               SE              FT               Data Engineer   \n",
              "604       2022               SE              FT                Data Analyst   \n",
              "605       2022               SE              FT                Data Analyst   \n",
              "606       2022               MI              FT                AI Scientist   \n",
              "\n",
              "     salary salary_currency  salary_in_usd employee_residence  remote_ratio  \\\n",
              "0     70000             EUR          79833                 DE             0   \n",
              "1    260000             USD         260000                 JP             0   \n",
              "2     85000             GBP         109024                 GB            50   \n",
              "3     20000             USD          20000                 HN             0   \n",
              "4    150000             USD         150000                 US            50   \n",
              "..      ...             ...            ...                ...           ...   \n",
              "602  154000             USD         154000                 US           100   \n",
              "603  126000             USD         126000                 US           100   \n",
              "604  129000             USD         129000                 US             0   \n",
              "605  150000             USD         150000                 US           100   \n",
              "606  200000             USD         200000                 IN           100   \n",
              "\n",
              "    company_location company_size  \n",
              "0                 DE            L  \n",
              "1                 JP            S  \n",
              "2                 GB            M  \n",
              "3                 HN            S  \n",
              "4                 US            L  \n",
              "..               ...          ...  \n",
              "602               US            M  \n",
              "603               US            M  \n",
              "604               US            M  \n",
              "605               US            M  \n",
              "606               US            L  \n",
              "\n",
              "[597 rows x 11 columns]"
            ],
            "text/html": [
              "\n",
              "  <div id=\"df-8b60f1ab-9261-4176-a450-bee9bc0dcaaf\">\n",
              "    <div class=\"colab-df-container\">\n",
              "      <div>\n",
              "<style scoped>\n",
              "    .dataframe tbody tr th:only-of-type {\n",
              "        vertical-align: middle;\n",
              "    }\n",
              "\n",
              "    .dataframe tbody tr th {\n",
              "        vertical-align: top;\n",
              "    }\n",
              "\n",
              "    .dataframe thead th {\n",
              "        text-align: right;\n",
              "    }\n",
              "</style>\n",
              "<table border=\"1\" class=\"dataframe\">\n",
              "  <thead>\n",
              "    <tr style=\"text-align: right;\">\n",
              "      <th></th>\n",
              "      <th>work_year</th>\n",
              "      <th>experience_level</th>\n",
              "      <th>employment_type</th>\n",
              "      <th>job_title</th>\n",
              "      <th>salary</th>\n",
              "      <th>salary_currency</th>\n",
              "      <th>salary_in_usd</th>\n",
              "      <th>employee_residence</th>\n",
              "      <th>remote_ratio</th>\n",
              "      <th>company_location</th>\n",
              "      <th>company_size</th>\n",
              "    </tr>\n",
              "  </thead>\n",
              "  <tbody>\n",
              "    <tr>\n",
              "      <th>0</th>\n",
              "      <td>2020</td>\n",
              "      <td>MI</td>\n",
              "      <td>FT</td>\n",
              "      <td>Data Scientist</td>\n",
              "      <td>70000</td>\n",
              "      <td>EUR</td>\n",
              "      <td>79833</td>\n",
              "      <td>DE</td>\n",
              "      <td>0</td>\n",
              "      <td>DE</td>\n",
              "      <td>L</td>\n",
              "    </tr>\n",
              "    <tr>\n",
              "      <th>1</th>\n",
              "      <td>2020</td>\n",
              "      <td>SE</td>\n",
              "      <td>FT</td>\n",
              "      <td>Machine Learning Scientist</td>\n",
              "      <td>260000</td>\n",
              "      <td>USD</td>\n",
              "      <td>260000</td>\n",
              "      <td>JP</td>\n",
              "      <td>0</td>\n",
              "      <td>JP</td>\n",
              "      <td>S</td>\n",
              "    </tr>\n",
              "    <tr>\n",
              "      <th>2</th>\n",
              "      <td>2020</td>\n",
              "      <td>SE</td>\n",
              "      <td>FT</td>\n",
              "      <td>Big Data Engineer</td>\n",
              "      <td>85000</td>\n",
              "      <td>GBP</td>\n",
              "      <td>109024</td>\n",
              "      <td>GB</td>\n",
              "      <td>50</td>\n",
              "      <td>GB</td>\n",
              "      <td>M</td>\n",
              "    </tr>\n",
              "    <tr>\n",
              "      <th>3</th>\n",
              "      <td>2020</td>\n",
              "      <td>MI</td>\n",
              "      <td>FT</td>\n",
              "      <td>Product Data Analyst</td>\n",
              "      <td>20000</td>\n",
              "      <td>USD</td>\n",
              "      <td>20000</td>\n",
              "      <td>HN</td>\n",
              "      <td>0</td>\n",
              "      <td>HN</td>\n",
              "      <td>S</td>\n",
              "    </tr>\n",
              "    <tr>\n",
              "      <th>4</th>\n",
              "      <td>2020</td>\n",
              "      <td>SE</td>\n",
              "      <td>FT</td>\n",
              "      <td>Machine Learning Engineer</td>\n",
              "      <td>150000</td>\n",
              "      <td>USD</td>\n",
              "      <td>150000</td>\n",
              "      <td>US</td>\n",
              "      <td>50</td>\n",
              "      <td>US</td>\n",
              "      <td>L</td>\n",
              "    </tr>\n",
              "    <tr>\n",
              "      <th>...</th>\n",
              "      <td>...</td>\n",
              "      <td>...</td>\n",
              "      <td>...</td>\n",
              "      <td>...</td>\n",
              "      <td>...</td>\n",
              "      <td>...</td>\n",
              "      <td>...</td>\n",
              "      <td>...</td>\n",
              "      <td>...</td>\n",
              "      <td>...</td>\n",
              "      <td>...</td>\n",
              "    </tr>\n",
              "    <tr>\n",
              "      <th>602</th>\n",
              "      <td>2022</td>\n",
              "      <td>SE</td>\n",
              "      <td>FT</td>\n",
              "      <td>Data Engineer</td>\n",
              "      <td>154000</td>\n",
              "      <td>USD</td>\n",
              "      <td>154000</td>\n",
              "      <td>US</td>\n",
              "      <td>100</td>\n",
              "      <td>US</td>\n",
              "      <td>M</td>\n",
              "    </tr>\n",
              "    <tr>\n",
              "      <th>603</th>\n",
              "      <td>2022</td>\n",
              "      <td>SE</td>\n",
              "      <td>FT</td>\n",
              "      <td>Data Engineer</td>\n",
              "      <td>126000</td>\n",
              "      <td>USD</td>\n",
              "      <td>126000</td>\n",
              "      <td>US</td>\n",
              "      <td>100</td>\n",
              "      <td>US</td>\n",
              "      <td>M</td>\n",
              "    </tr>\n",
              "    <tr>\n",
              "      <th>604</th>\n",
              "      <td>2022</td>\n",
              "      <td>SE</td>\n",
              "      <td>FT</td>\n",
              "      <td>Data Analyst</td>\n",
              "      <td>129000</td>\n",
              "      <td>USD</td>\n",
              "      <td>129000</td>\n",
              "      <td>US</td>\n",
              "      <td>0</td>\n",
              "      <td>US</td>\n",
              "      <td>M</td>\n",
              "    </tr>\n",
              "    <tr>\n",
              "      <th>605</th>\n",
              "      <td>2022</td>\n",
              "      <td>SE</td>\n",
              "      <td>FT</td>\n",
              "      <td>Data Analyst</td>\n",
              "      <td>150000</td>\n",
              "      <td>USD</td>\n",
              "      <td>150000</td>\n",
              "      <td>US</td>\n",
              "      <td>100</td>\n",
              "      <td>US</td>\n",
              "      <td>M</td>\n",
              "    </tr>\n",
              "    <tr>\n",
              "      <th>606</th>\n",
              "      <td>2022</td>\n",
              "      <td>MI</td>\n",
              "      <td>FT</td>\n",
              "      <td>AI Scientist</td>\n",
              "      <td>200000</td>\n",
              "      <td>USD</td>\n",
              "      <td>200000</td>\n",
              "      <td>IN</td>\n",
              "      <td>100</td>\n",
              "      <td>US</td>\n",
              "      <td>L</td>\n",
              "    </tr>\n",
              "  </tbody>\n",
              "</table>\n",
              "<p>597 rows × 11 columns</p>\n",
              "</div>\n",
              "      <button class=\"colab-df-convert\" onclick=\"convertToInteractive('df-8b60f1ab-9261-4176-a450-bee9bc0dcaaf')\"\n",
              "              title=\"Convert this dataframe to an interactive table.\"\n",
              "              style=\"display:none;\">\n",
              "        \n",
              "  <svg xmlns=\"http://www.w3.org/2000/svg\" height=\"24px\"viewBox=\"0 0 24 24\"\n",
              "       width=\"24px\">\n",
              "    <path d=\"M0 0h24v24H0V0z\" fill=\"none\"/>\n",
              "    <path d=\"M18.56 5.44l.94 2.06.94-2.06 2.06-.94-2.06-.94-.94-2.06-.94 2.06-2.06.94zm-11 1L8.5 8.5l.94-2.06 2.06-.94-2.06-.94L8.5 2.5l-.94 2.06-2.06.94zm10 10l.94 2.06.94-2.06 2.06-.94-2.06-.94-.94-2.06-.94 2.06-2.06.94z\"/><path d=\"M17.41 7.96l-1.37-1.37c-.4-.4-.92-.59-1.43-.59-.52 0-1.04.2-1.43.59L10.3 9.45l-7.72 7.72c-.78.78-.78 2.05 0 2.83L4 21.41c.39.39.9.59 1.41.59.51 0 1.02-.2 1.41-.59l7.78-7.78 2.81-2.81c.8-.78.8-2.07 0-2.86zM5.41 20L4 18.59l7.72-7.72 1.47 1.35L5.41 20z\"/>\n",
              "  </svg>\n",
              "      </button>\n",
              "      \n",
              "  <style>\n",
              "    .colab-df-container {\n",
              "      display:flex;\n",
              "      flex-wrap:wrap;\n",
              "      gap: 12px;\n",
              "    }\n",
              "\n",
              "    .colab-df-convert {\n",
              "      background-color: #E8F0FE;\n",
              "      border: none;\n",
              "      border-radius: 50%;\n",
              "      cursor: pointer;\n",
              "      display: none;\n",
              "      fill: #1967D2;\n",
              "      height: 32px;\n",
              "      padding: 0 0 0 0;\n",
              "      width: 32px;\n",
              "    }\n",
              "\n",
              "    .colab-df-convert:hover {\n",
              "      background-color: #E2EBFA;\n",
              "      box-shadow: 0px 1px 2px rgba(60, 64, 67, 0.3), 0px 1px 3px 1px rgba(60, 64, 67, 0.15);\n",
              "      fill: #174EA6;\n",
              "    }\n",
              "\n",
              "    [theme=dark] .colab-df-convert {\n",
              "      background-color: #3B4455;\n",
              "      fill: #D2E3FC;\n",
              "    }\n",
              "\n",
              "    [theme=dark] .colab-df-convert:hover {\n",
              "      background-color: #434B5C;\n",
              "      box-shadow: 0px 1px 3px 1px rgba(0, 0, 0, 0.15);\n",
              "      filter: drop-shadow(0px 1px 2px rgba(0, 0, 0, 0.3));\n",
              "      fill: #FFFFFF;\n",
              "    }\n",
              "  </style>\n",
              "\n",
              "      <script>\n",
              "        const buttonEl =\n",
              "          document.querySelector('#df-8b60f1ab-9261-4176-a450-bee9bc0dcaaf button.colab-df-convert');\n",
              "        buttonEl.style.display =\n",
              "          google.colab.kernel.accessAllowed ? 'block' : 'none';\n",
              "\n",
              "        async function convertToInteractive(key) {\n",
              "          const element = document.querySelector('#df-8b60f1ab-9261-4176-a450-bee9bc0dcaaf');\n",
              "          const dataTable =\n",
              "            await google.colab.kernel.invokeFunction('convertToInteractive',\n",
              "                                                     [key], {});\n",
              "          if (!dataTable) return;\n",
              "\n",
              "          const docLinkHtml = 'Like what you see? Visit the ' +\n",
              "            '<a target=\"_blank\" href=https://colab.research.google.com/notebooks/data_table.ipynb>data table notebook</a>'\n",
              "            + ' to learn more about interactive tables.';\n",
              "          element.innerHTML = '';\n",
              "          dataTable['output_type'] = 'display_data';\n",
              "          await google.colab.output.renderOutput(dataTable, element);\n",
              "          const docLink = document.createElement('div');\n",
              "          docLink.innerHTML = docLinkHtml;\n",
              "          element.appendChild(docLink);\n",
              "        }\n",
              "      </script>\n",
              "    </div>\n",
              "  </div>\n",
              "  "
            ]
          },
          "metadata": {},
          "execution_count": 21
        }
      ]
    },
    {
      "cell_type": "code",
      "source": [
        "df = df.drop_duplicates()"
      ],
      "metadata": {
        "id": "FUcYD9ARt8g7"
      },
      "execution_count": null,
      "outputs": []
    },
    {
      "cell_type": "code",
      "source": [
        "df.drop(['column_nameA', 'column_nameB'], axis=1, inplace=True)"
      ],
      "metadata": {
        "id": "V5A2EMGqwrGU"
      },
      "execution_count": null,
      "outputs": []
    },
    {
      "cell_type": "code",
      "source": [
        "df.drop('salary_currency', axis=1, inplace=True)"
      ],
      "metadata": {
        "colab": {
          "base_uri": "https://localhost:8080/"
        },
        "id": "R8TLhTotwUF8",
        "outputId": "2f9a2e34-839d-4ffc-9aaf-bda1a59b8348"
      },
      "execution_count": null,
      "outputs": [
        {
          "output_type": "stream",
          "name": "stderr",
          "text": [
            "/usr/local/lib/python3.7/dist-packages/pandas/core/frame.py:4913: SettingWithCopyWarning: \n",
            "A value is trying to be set on a copy of a slice from a DataFrame\n",
            "\n",
            "See the caveats in the documentation: https://pandas.pydata.org/pandas-docs/stable/user_guide/indexing.html#returning-a-view-versus-a-copy\n",
            "  errors=errors,\n"
          ]
        }
      ]
    },
    {
      "cell_type": "code",
      "source": [
        "df"
      ],
      "metadata": {
        "colab": {
          "base_uri": "https://localhost:8080/",
          "height": 424
        },
        "id": "B5fzj4h6vjii",
        "outputId": "bd143b6f-9c60-4613-ec7a-9269ce1ce34b"
      },
      "execution_count": null,
      "outputs": [
        {
          "output_type": "execute_result",
          "data": {
            "text/plain": [
              "     work_year experience_level employment_type                   job_title  \\\n",
              "0         2020               MI              FT              Data Scientist   \n",
              "1         2020               SE              FT  Machine Learning Scientist   \n",
              "2         2020               SE              FT           Big Data Engineer   \n",
              "3         2020               MI              FT        Product Data Analyst   \n",
              "4         2020               SE              FT   Machine Learning Engineer   \n",
              "..         ...              ...             ...                         ...   \n",
              "602       2022               SE              FT               Data Engineer   \n",
              "603       2022               SE              FT               Data Engineer   \n",
              "604       2022               SE              FT                Data Analyst   \n",
              "605       2022               SE              FT                Data Analyst   \n",
              "606       2022               MI              FT                AI Scientist   \n",
              "\n",
              "     salary_in_usd employee_residence  remote_ratio company_location  \\\n",
              "0            79833                 DE             0               DE   \n",
              "1           260000                 JP             0               JP   \n",
              "2           109024                 GB            50               GB   \n",
              "3            20000                 HN             0               HN   \n",
              "4           150000                 US            50               US   \n",
              "..             ...                ...           ...              ...   \n",
              "602         154000                 US           100               US   \n",
              "603         126000                 US           100               US   \n",
              "604         129000                 US             0               US   \n",
              "605         150000                 US           100               US   \n",
              "606         200000                 IN           100               US   \n",
              "\n",
              "    company_size  \n",
              "0              L  \n",
              "1              S  \n",
              "2              M  \n",
              "3              S  \n",
              "4              L  \n",
              "..           ...  \n",
              "602            M  \n",
              "603            M  \n",
              "604            M  \n",
              "605            M  \n",
              "606            L  \n",
              "\n",
              "[555 rows x 9 columns]"
            ],
            "text/html": [
              "\n",
              "  <div id=\"df-e3125dd6-4e58-4fa6-8248-92130d2fb35d\">\n",
              "    <div class=\"colab-df-container\">\n",
              "      <div>\n",
              "<style scoped>\n",
              "    .dataframe tbody tr th:only-of-type {\n",
              "        vertical-align: middle;\n",
              "    }\n",
              "\n",
              "    .dataframe tbody tr th {\n",
              "        vertical-align: top;\n",
              "    }\n",
              "\n",
              "    .dataframe thead th {\n",
              "        text-align: right;\n",
              "    }\n",
              "</style>\n",
              "<table border=\"1\" class=\"dataframe\">\n",
              "  <thead>\n",
              "    <tr style=\"text-align: right;\">\n",
              "      <th></th>\n",
              "      <th>work_year</th>\n",
              "      <th>experience_level</th>\n",
              "      <th>employment_type</th>\n",
              "      <th>job_title</th>\n",
              "      <th>salary_in_usd</th>\n",
              "      <th>employee_residence</th>\n",
              "      <th>remote_ratio</th>\n",
              "      <th>company_location</th>\n",
              "      <th>company_size</th>\n",
              "    </tr>\n",
              "  </thead>\n",
              "  <tbody>\n",
              "    <tr>\n",
              "      <th>0</th>\n",
              "      <td>2020</td>\n",
              "      <td>MI</td>\n",
              "      <td>FT</td>\n",
              "      <td>Data Scientist</td>\n",
              "      <td>79833</td>\n",
              "      <td>DE</td>\n",
              "      <td>0</td>\n",
              "      <td>DE</td>\n",
              "      <td>L</td>\n",
              "    </tr>\n",
              "    <tr>\n",
              "      <th>1</th>\n",
              "      <td>2020</td>\n",
              "      <td>SE</td>\n",
              "      <td>FT</td>\n",
              "      <td>Machine Learning Scientist</td>\n",
              "      <td>260000</td>\n",
              "      <td>JP</td>\n",
              "      <td>0</td>\n",
              "      <td>JP</td>\n",
              "      <td>S</td>\n",
              "    </tr>\n",
              "    <tr>\n",
              "      <th>2</th>\n",
              "      <td>2020</td>\n",
              "      <td>SE</td>\n",
              "      <td>FT</td>\n",
              "      <td>Big Data Engineer</td>\n",
              "      <td>109024</td>\n",
              "      <td>GB</td>\n",
              "      <td>50</td>\n",
              "      <td>GB</td>\n",
              "      <td>M</td>\n",
              "    </tr>\n",
              "    <tr>\n",
              "      <th>3</th>\n",
              "      <td>2020</td>\n",
              "      <td>MI</td>\n",
              "      <td>FT</td>\n",
              "      <td>Product Data Analyst</td>\n",
              "      <td>20000</td>\n",
              "      <td>HN</td>\n",
              "      <td>0</td>\n",
              "      <td>HN</td>\n",
              "      <td>S</td>\n",
              "    </tr>\n",
              "    <tr>\n",
              "      <th>4</th>\n",
              "      <td>2020</td>\n",
              "      <td>SE</td>\n",
              "      <td>FT</td>\n",
              "      <td>Machine Learning Engineer</td>\n",
              "      <td>150000</td>\n",
              "      <td>US</td>\n",
              "      <td>50</td>\n",
              "      <td>US</td>\n",
              "      <td>L</td>\n",
              "    </tr>\n",
              "    <tr>\n",
              "      <th>...</th>\n",
              "      <td>...</td>\n",
              "      <td>...</td>\n",
              "      <td>...</td>\n",
              "      <td>...</td>\n",
              "      <td>...</td>\n",
              "      <td>...</td>\n",
              "      <td>...</td>\n",
              "      <td>...</td>\n",
              "      <td>...</td>\n",
              "    </tr>\n",
              "    <tr>\n",
              "      <th>602</th>\n",
              "      <td>2022</td>\n",
              "      <td>SE</td>\n",
              "      <td>FT</td>\n",
              "      <td>Data Engineer</td>\n",
              "      <td>154000</td>\n",
              "      <td>US</td>\n",
              "      <td>100</td>\n",
              "      <td>US</td>\n",
              "      <td>M</td>\n",
              "    </tr>\n",
              "    <tr>\n",
              "      <th>603</th>\n",
              "      <td>2022</td>\n",
              "      <td>SE</td>\n",
              "      <td>FT</td>\n",
              "      <td>Data Engineer</td>\n",
              "      <td>126000</td>\n",
              "      <td>US</td>\n",
              "      <td>100</td>\n",
              "      <td>US</td>\n",
              "      <td>M</td>\n",
              "    </tr>\n",
              "    <tr>\n",
              "      <th>604</th>\n",
              "      <td>2022</td>\n",
              "      <td>SE</td>\n",
              "      <td>FT</td>\n",
              "      <td>Data Analyst</td>\n",
              "      <td>129000</td>\n",
              "      <td>US</td>\n",
              "      <td>0</td>\n",
              "      <td>US</td>\n",
              "      <td>M</td>\n",
              "    </tr>\n",
              "    <tr>\n",
              "      <th>605</th>\n",
              "      <td>2022</td>\n",
              "      <td>SE</td>\n",
              "      <td>FT</td>\n",
              "      <td>Data Analyst</td>\n",
              "      <td>150000</td>\n",
              "      <td>US</td>\n",
              "      <td>100</td>\n",
              "      <td>US</td>\n",
              "      <td>M</td>\n",
              "    </tr>\n",
              "    <tr>\n",
              "      <th>606</th>\n",
              "      <td>2022</td>\n",
              "      <td>MI</td>\n",
              "      <td>FT</td>\n",
              "      <td>AI Scientist</td>\n",
              "      <td>200000</td>\n",
              "      <td>IN</td>\n",
              "      <td>100</td>\n",
              "      <td>US</td>\n",
              "      <td>L</td>\n",
              "    </tr>\n",
              "  </tbody>\n",
              "</table>\n",
              "<p>555 rows × 9 columns</p>\n",
              "</div>\n",
              "      <button class=\"colab-df-convert\" onclick=\"convertToInteractive('df-e3125dd6-4e58-4fa6-8248-92130d2fb35d')\"\n",
              "              title=\"Convert this dataframe to an interactive table.\"\n",
              "              style=\"display:none;\">\n",
              "        \n",
              "  <svg xmlns=\"http://www.w3.org/2000/svg\" height=\"24px\"viewBox=\"0 0 24 24\"\n",
              "       width=\"24px\">\n",
              "    <path d=\"M0 0h24v24H0V0z\" fill=\"none\"/>\n",
              "    <path d=\"M18.56 5.44l.94 2.06.94-2.06 2.06-.94-2.06-.94-.94-2.06-.94 2.06-2.06.94zm-11 1L8.5 8.5l.94-2.06 2.06-.94-2.06-.94L8.5 2.5l-.94 2.06-2.06.94zm10 10l.94 2.06.94-2.06 2.06-.94-2.06-.94-.94-2.06-.94 2.06-2.06.94z\"/><path d=\"M17.41 7.96l-1.37-1.37c-.4-.4-.92-.59-1.43-.59-.52 0-1.04.2-1.43.59L10.3 9.45l-7.72 7.72c-.78.78-.78 2.05 0 2.83L4 21.41c.39.39.9.59 1.41.59.51 0 1.02-.2 1.41-.59l7.78-7.78 2.81-2.81c.8-.78.8-2.07 0-2.86zM5.41 20L4 18.59l7.72-7.72 1.47 1.35L5.41 20z\"/>\n",
              "  </svg>\n",
              "      </button>\n",
              "      \n",
              "  <style>\n",
              "    .colab-df-container {\n",
              "      display:flex;\n",
              "      flex-wrap:wrap;\n",
              "      gap: 12px;\n",
              "    }\n",
              "\n",
              "    .colab-df-convert {\n",
              "      background-color: #E8F0FE;\n",
              "      border: none;\n",
              "      border-radius: 50%;\n",
              "      cursor: pointer;\n",
              "      display: none;\n",
              "      fill: #1967D2;\n",
              "      height: 32px;\n",
              "      padding: 0 0 0 0;\n",
              "      width: 32px;\n",
              "    }\n",
              "\n",
              "    .colab-df-convert:hover {\n",
              "      background-color: #E2EBFA;\n",
              "      box-shadow: 0px 1px 2px rgba(60, 64, 67, 0.3), 0px 1px 3px 1px rgba(60, 64, 67, 0.15);\n",
              "      fill: #174EA6;\n",
              "    }\n",
              "\n",
              "    [theme=dark] .colab-df-convert {\n",
              "      background-color: #3B4455;\n",
              "      fill: #D2E3FC;\n",
              "    }\n",
              "\n",
              "    [theme=dark] .colab-df-convert:hover {\n",
              "      background-color: #434B5C;\n",
              "      box-shadow: 0px 1px 3px 1px rgba(0, 0, 0, 0.15);\n",
              "      filter: drop-shadow(0px 1px 2px rgba(0, 0, 0, 0.3));\n",
              "      fill: #FFFFFF;\n",
              "    }\n",
              "  </style>\n",
              "\n",
              "      <script>\n",
              "        const buttonEl =\n",
              "          document.querySelector('#df-e3125dd6-4e58-4fa6-8248-92130d2fb35d button.colab-df-convert');\n",
              "        buttonEl.style.display =\n",
              "          google.colab.kernel.accessAllowed ? 'block' : 'none';\n",
              "\n",
              "        async function convertToInteractive(key) {\n",
              "          const element = document.querySelector('#df-e3125dd6-4e58-4fa6-8248-92130d2fb35d');\n",
              "          const dataTable =\n",
              "            await google.colab.kernel.invokeFunction('convertToInteractive',\n",
              "                                                     [key], {});\n",
              "          if (!dataTable) return;\n",
              "\n",
              "          const docLinkHtml = 'Like what you see? Visit the ' +\n",
              "            '<a target=\"_blank\" href=https://colab.research.google.com/notebooks/data_table.ipynb>data table notebook</a>'\n",
              "            + ' to learn more about interactive tables.';\n",
              "          element.innerHTML = '';\n",
              "          dataTable['output_type'] = 'display_data';\n",
              "          await google.colab.output.renderOutput(dataTable, element);\n",
              "          const docLink = document.createElement('div');\n",
              "          docLink.innerHTML = docLinkHtml;\n",
              "          element.appendChild(docLink);\n",
              "        }\n",
              "      </script>\n",
              "    </div>\n",
              "  </div>\n",
              "  "
            ]
          },
          "metadata": {},
          "execution_count": 49
        }
      ]
    },
    {
      "cell_type": "code",
      "source": [
        "df.info()"
      ],
      "metadata": {
        "colab": {
          "base_uri": "https://localhost:8080/"
        },
        "id": "mbOigVTzuyFR",
        "outputId": "6291e4ed-1753-43be-9893-0b64fba0df99"
      },
      "execution_count": null,
      "outputs": [
        {
          "output_type": "stream",
          "name": "stdout",
          "text": [
            "<class 'pandas.core.frame.DataFrame'>\n",
            "Int64Index: 555 entries, 0 to 606\n",
            "Data columns (total 9 columns):\n",
            " #   Column              Non-Null Count  Dtype \n",
            "---  ------              --------------  ----- \n",
            " 0   work_year           555 non-null    int64 \n",
            " 1   experience_level    555 non-null    object\n",
            " 2   employment_type     555 non-null    object\n",
            " 3   job_title           555 non-null    object\n",
            " 4   salary_in_usd       555 non-null    int64 \n",
            " 5   employee_residence  555 non-null    object\n",
            " 6   remote_ratio        555 non-null    int64 \n",
            " 7   company_location    555 non-null    object\n",
            " 8   company_size        555 non-null    object\n",
            "dtypes: int64(3), object(6)\n",
            "memory usage: 43.4+ KB\n"
          ]
        }
      ]
    },
    {
      "cell_type": "code",
      "source": [
        "string_col = ['employment_type', 'work_year', 'company_size', 'employee_residence', 'company_location', 'job_title']"
      ],
      "metadata": {
        "id": "8ceyaI6NvW4O"
      },
      "execution_count": null,
      "outputs": []
    },
    {
      "cell_type": "code",
      "source": [
        "df_nontree=pd.get_dummies(df,columns=string_col,drop_first=False)\n",
        "df_nontree.head()"
      ],
      "metadata": {
        "colab": {
          "base_uri": "https://localhost:8080/",
          "height": 334
        },
        "id": "lxSuYSkju2EH",
        "outputId": "054a4530-b030-40aa-f785-36100f6b77f4"
      },
      "execution_count": null,
      "outputs": [
        {
          "output_type": "execute_result",
          "data": {
            "text/plain": [
              "  experience_level  salary_in_usd  remote_ratio  employment_type_CT  \\\n",
              "0               MI          79833             0                   0   \n",
              "1               SE         260000             0                   0   \n",
              "2               SE         109024            50                   0   \n",
              "3               MI          20000             0                   0   \n",
              "4               SE         150000            50                   0   \n",
              "\n",
              "   employment_type_FL  employment_type_FT  employment_type_PT  work_year_2020  \\\n",
              "0                   0                   1                   0               1   \n",
              "1                   0                   1                   0               1   \n",
              "2                   0                   1                   0               1   \n",
              "3                   0                   1                   0               1   \n",
              "4                   0                   1                   0               1   \n",
              "\n",
              "   work_year_2021  work_year_2022  ...  job_title_Machine Learning Manager  \\\n",
              "0               0               0  ...                                   0   \n",
              "1               0               0  ...                                   0   \n",
              "2               0               0  ...                                   0   \n",
              "3               0               0  ...                                   0   \n",
              "4               0               0  ...                                   0   \n",
              "\n",
              "   job_title_Machine Learning Scientist  job_title_Marketing Data Analyst  \\\n",
              "0                                     0                                 0   \n",
              "1                                     1                                 0   \n",
              "2                                     0                                 0   \n",
              "3                                     0                                 0   \n",
              "4                                     0                                 0   \n",
              "\n",
              "   job_title_NLP Engineer  job_title_Principal Data Analyst  \\\n",
              "0                       0                                 0   \n",
              "1                       0                                 0   \n",
              "2                       0                                 0   \n",
              "3                       0                                 0   \n",
              "4                       0                                 0   \n",
              "\n",
              "   job_title_Principal Data Engineer  job_title_Principal Data Scientist  \\\n",
              "0                                  0                                   0   \n",
              "1                                  0                                   0   \n",
              "2                                  0                                   0   \n",
              "3                                  0                                   0   \n",
              "4                                  0                                   0   \n",
              "\n",
              "   job_title_Product Data Analyst  job_title_Research Scientist  \\\n",
              "0                               0                             0   \n",
              "1                               0                             0   \n",
              "2                               0                             0   \n",
              "3                               1                             0   \n",
              "4                               0                             0   \n",
              "\n",
              "   job_title_Staff Data Scientist  \n",
              "0                               0  \n",
              "1                               0  \n",
              "2                               0  \n",
              "3                               0  \n",
              "4                               0  \n",
              "\n",
              "[5 rows x 169 columns]"
            ],
            "text/html": [
              "\n",
              "  <div id=\"df-3449eb4b-94cc-4c27-afa5-dc702b96eefb\">\n",
              "    <div class=\"colab-df-container\">\n",
              "      <div>\n",
              "<style scoped>\n",
              "    .dataframe tbody tr th:only-of-type {\n",
              "        vertical-align: middle;\n",
              "    }\n",
              "\n",
              "    .dataframe tbody tr th {\n",
              "        vertical-align: top;\n",
              "    }\n",
              "\n",
              "    .dataframe thead th {\n",
              "        text-align: right;\n",
              "    }\n",
              "</style>\n",
              "<table border=\"1\" class=\"dataframe\">\n",
              "  <thead>\n",
              "    <tr style=\"text-align: right;\">\n",
              "      <th></th>\n",
              "      <th>experience_level</th>\n",
              "      <th>salary_in_usd</th>\n",
              "      <th>remote_ratio</th>\n",
              "      <th>employment_type_CT</th>\n",
              "      <th>employment_type_FL</th>\n",
              "      <th>employment_type_FT</th>\n",
              "      <th>employment_type_PT</th>\n",
              "      <th>work_year_2020</th>\n",
              "      <th>work_year_2021</th>\n",
              "      <th>work_year_2022</th>\n",
              "      <th>...</th>\n",
              "      <th>job_title_Machine Learning Manager</th>\n",
              "      <th>job_title_Machine Learning Scientist</th>\n",
              "      <th>job_title_Marketing Data Analyst</th>\n",
              "      <th>job_title_NLP Engineer</th>\n",
              "      <th>job_title_Principal Data Analyst</th>\n",
              "      <th>job_title_Principal Data Engineer</th>\n",
              "      <th>job_title_Principal Data Scientist</th>\n",
              "      <th>job_title_Product Data Analyst</th>\n",
              "      <th>job_title_Research Scientist</th>\n",
              "      <th>job_title_Staff Data Scientist</th>\n",
              "    </tr>\n",
              "  </thead>\n",
              "  <tbody>\n",
              "    <tr>\n",
              "      <th>0</th>\n",
              "      <td>MI</td>\n",
              "      <td>79833</td>\n",
              "      <td>0</td>\n",
              "      <td>0</td>\n",
              "      <td>0</td>\n",
              "      <td>1</td>\n",
              "      <td>0</td>\n",
              "      <td>1</td>\n",
              "      <td>0</td>\n",
              "      <td>0</td>\n",
              "      <td>...</td>\n",
              "      <td>0</td>\n",
              "      <td>0</td>\n",
              "      <td>0</td>\n",
              "      <td>0</td>\n",
              "      <td>0</td>\n",
              "      <td>0</td>\n",
              "      <td>0</td>\n",
              "      <td>0</td>\n",
              "      <td>0</td>\n",
              "      <td>0</td>\n",
              "    </tr>\n",
              "    <tr>\n",
              "      <th>1</th>\n",
              "      <td>SE</td>\n",
              "      <td>260000</td>\n",
              "      <td>0</td>\n",
              "      <td>0</td>\n",
              "      <td>0</td>\n",
              "      <td>1</td>\n",
              "      <td>0</td>\n",
              "      <td>1</td>\n",
              "      <td>0</td>\n",
              "      <td>0</td>\n",
              "      <td>...</td>\n",
              "      <td>0</td>\n",
              "      <td>1</td>\n",
              "      <td>0</td>\n",
              "      <td>0</td>\n",
              "      <td>0</td>\n",
              "      <td>0</td>\n",
              "      <td>0</td>\n",
              "      <td>0</td>\n",
              "      <td>0</td>\n",
              "      <td>0</td>\n",
              "    </tr>\n",
              "    <tr>\n",
              "      <th>2</th>\n",
              "      <td>SE</td>\n",
              "      <td>109024</td>\n",
              "      <td>50</td>\n",
              "      <td>0</td>\n",
              "      <td>0</td>\n",
              "      <td>1</td>\n",
              "      <td>0</td>\n",
              "      <td>1</td>\n",
              "      <td>0</td>\n",
              "      <td>0</td>\n",
              "      <td>...</td>\n",
              "      <td>0</td>\n",
              "      <td>0</td>\n",
              "      <td>0</td>\n",
              "      <td>0</td>\n",
              "      <td>0</td>\n",
              "      <td>0</td>\n",
              "      <td>0</td>\n",
              "      <td>0</td>\n",
              "      <td>0</td>\n",
              "      <td>0</td>\n",
              "    </tr>\n",
              "    <tr>\n",
              "      <th>3</th>\n",
              "      <td>MI</td>\n",
              "      <td>20000</td>\n",
              "      <td>0</td>\n",
              "      <td>0</td>\n",
              "      <td>0</td>\n",
              "      <td>1</td>\n",
              "      <td>0</td>\n",
              "      <td>1</td>\n",
              "      <td>0</td>\n",
              "      <td>0</td>\n",
              "      <td>...</td>\n",
              "      <td>0</td>\n",
              "      <td>0</td>\n",
              "      <td>0</td>\n",
              "      <td>0</td>\n",
              "      <td>0</td>\n",
              "      <td>0</td>\n",
              "      <td>0</td>\n",
              "      <td>1</td>\n",
              "      <td>0</td>\n",
              "      <td>0</td>\n",
              "    </tr>\n",
              "    <tr>\n",
              "      <th>4</th>\n",
              "      <td>SE</td>\n",
              "      <td>150000</td>\n",
              "      <td>50</td>\n",
              "      <td>0</td>\n",
              "      <td>0</td>\n",
              "      <td>1</td>\n",
              "      <td>0</td>\n",
              "      <td>1</td>\n",
              "      <td>0</td>\n",
              "      <td>0</td>\n",
              "      <td>...</td>\n",
              "      <td>0</td>\n",
              "      <td>0</td>\n",
              "      <td>0</td>\n",
              "      <td>0</td>\n",
              "      <td>0</td>\n",
              "      <td>0</td>\n",
              "      <td>0</td>\n",
              "      <td>0</td>\n",
              "      <td>0</td>\n",
              "      <td>0</td>\n",
              "    </tr>\n",
              "  </tbody>\n",
              "</table>\n",
              "<p>5 rows × 169 columns</p>\n",
              "</div>\n",
              "      <button class=\"colab-df-convert\" onclick=\"convertToInteractive('df-3449eb4b-94cc-4c27-afa5-dc702b96eefb')\"\n",
              "              title=\"Convert this dataframe to an interactive table.\"\n",
              "              style=\"display:none;\">\n",
              "        \n",
              "  <svg xmlns=\"http://www.w3.org/2000/svg\" height=\"24px\"viewBox=\"0 0 24 24\"\n",
              "       width=\"24px\">\n",
              "    <path d=\"M0 0h24v24H0V0z\" fill=\"none\"/>\n",
              "    <path d=\"M18.56 5.44l.94 2.06.94-2.06 2.06-.94-2.06-.94-.94-2.06-.94 2.06-2.06.94zm-11 1L8.5 8.5l.94-2.06 2.06-.94-2.06-.94L8.5 2.5l-.94 2.06-2.06.94zm10 10l.94 2.06.94-2.06 2.06-.94-2.06-.94-.94-2.06-.94 2.06-2.06.94z\"/><path d=\"M17.41 7.96l-1.37-1.37c-.4-.4-.92-.59-1.43-.59-.52 0-1.04.2-1.43.59L10.3 9.45l-7.72 7.72c-.78.78-.78 2.05 0 2.83L4 21.41c.39.39.9.59 1.41.59.51 0 1.02-.2 1.41-.59l7.78-7.78 2.81-2.81c.8-.78.8-2.07 0-2.86zM5.41 20L4 18.59l7.72-7.72 1.47 1.35L5.41 20z\"/>\n",
              "  </svg>\n",
              "      </button>\n",
              "      \n",
              "  <style>\n",
              "    .colab-df-container {\n",
              "      display:flex;\n",
              "      flex-wrap:wrap;\n",
              "      gap: 12px;\n",
              "    }\n",
              "\n",
              "    .colab-df-convert {\n",
              "      background-color: #E8F0FE;\n",
              "      border: none;\n",
              "      border-radius: 50%;\n",
              "      cursor: pointer;\n",
              "      display: none;\n",
              "      fill: #1967D2;\n",
              "      height: 32px;\n",
              "      padding: 0 0 0 0;\n",
              "      width: 32px;\n",
              "    }\n",
              "\n",
              "    .colab-df-convert:hover {\n",
              "      background-color: #E2EBFA;\n",
              "      box-shadow: 0px 1px 2px rgba(60, 64, 67, 0.3), 0px 1px 3px 1px rgba(60, 64, 67, 0.15);\n",
              "      fill: #174EA6;\n",
              "    }\n",
              "\n",
              "    [theme=dark] .colab-df-convert {\n",
              "      background-color: #3B4455;\n",
              "      fill: #D2E3FC;\n",
              "    }\n",
              "\n",
              "    [theme=dark] .colab-df-convert:hover {\n",
              "      background-color: #434B5C;\n",
              "      box-shadow: 0px 1px 3px 1px rgba(0, 0, 0, 0.15);\n",
              "      filter: drop-shadow(0px 1px 2px rgba(0, 0, 0, 0.3));\n",
              "      fill: #FFFFFF;\n",
              "    }\n",
              "  </style>\n",
              "\n",
              "      <script>\n",
              "        const buttonEl =\n",
              "          document.querySelector('#df-3449eb4b-94cc-4c27-afa5-dc702b96eefb button.colab-df-convert');\n",
              "        buttonEl.style.display =\n",
              "          google.colab.kernel.accessAllowed ? 'block' : 'none';\n",
              "\n",
              "        async function convertToInteractive(key) {\n",
              "          const element = document.querySelector('#df-3449eb4b-94cc-4c27-afa5-dc702b96eefb');\n",
              "          const dataTable =\n",
              "            await google.colab.kernel.invokeFunction('convertToInteractive',\n",
              "                                                     [key], {});\n",
              "          if (!dataTable) return;\n",
              "\n",
              "          const docLinkHtml = 'Like what you see? Visit the ' +\n",
              "            '<a target=\"_blank\" href=https://colab.research.google.com/notebooks/data_table.ipynb>data table notebook</a>'\n",
              "            + ' to learn more about interactive tables.';\n",
              "          element.innerHTML = '';\n",
              "          dataTable['output_type'] = 'display_data';\n",
              "          await google.colab.output.renderOutput(dataTable, element);\n",
              "          const docLink = document.createElement('div');\n",
              "          docLink.innerHTML = docLinkHtml;\n",
              "          element.appendChild(docLink);\n",
              "        }\n",
              "      </script>\n",
              "    </div>\n",
              "  </div>\n",
              "  "
            ]
          },
          "metadata": {},
          "execution_count": 64
        }
      ]
    },
    {
      "cell_type": "code",
      "source": [
        "X = df_nontree.iloc[:,df_nontree.columns != 'experience_level']\n",
        "y = df_nontree.experience_level"
      ],
      "metadata": {
        "id": "lCnRujFzwxRa"
      },
      "execution_count": null,
      "outputs": []
    },
    {
      "cell_type": "code",
      "source": [
        "X_train, X_test, y_train, y_test = train_test_split(X, y, test_size=0.25, random_state = 42)"
      ],
      "metadata": {
        "id": "_flvHYwgxY1W"
      },
      "execution_count": null,
      "outputs": []
    },
    {
      "cell_type": "code",
      "source": [
        "from sklearn.model_selection import train_test_split\n",
        "from sklearn.linear_model import LogisticRegression\n",
        "from sklearn import preprocessing\n",
        "from sklearn.metrics import accuracy_score, classification_report, confusion_matrix"
      ],
      "metadata": {
        "id": "BhU_wAGqyRws"
      },
      "execution_count": null,
      "outputs": []
    },
    {
      "cell_type": "code",
      "source": [
        "model = LogisticRegression()"
      ],
      "metadata": {
        "id": "-LkWW_YDyXpA"
      },
      "execution_count": null,
      "outputs": []
    },
    {
      "cell_type": "code",
      "source": [
        "model.fit(X_train, y_train)"
      ],
      "metadata": {
        "colab": {
          "base_uri": "https://localhost:8080/"
        },
        "id": "SVt7tA3eyplo",
        "outputId": "cfb1a853-ea65-4501-c5e2-5ae6d11a82c2"
      },
      "execution_count": null,
      "outputs": [
        {
          "output_type": "execute_result",
          "data": {
            "text/plain": [
              "LogisticRegression()"
            ]
          },
          "metadata": {},
          "execution_count": 69
        }
      ]
    },
    {
      "cell_type": "code",
      "source": [
        "train_acc = model.score(X_train, y_train)\n",
        "print(\"The Accuracy for Training Set is {}\".format(train_acc*100))"
      ],
      "metadata": {
        "colab": {
          "base_uri": "https://localhost:8080/"
        },
        "id": "pbX-KvIv0TT9",
        "outputId": "b80d584a-5a36-48e9-f7aa-9d14e79b60d9"
      },
      "execution_count": null,
      "outputs": [
        {
          "output_type": "stream",
          "name": "stdout",
          "text": [
            "The Accuracy for Training Set is 53.36538461538461\n"
          ]
        }
      ]
    },
    {
      "cell_type": "code",
      "source": [
        "y_pred = model.predict(X_test)\n",
        "test_acc = accuracy_score(y_test, y_pred)\n",
        "print(\"The Accuracy for Test Set is {}\".format(test_acc*100))"
      ],
      "metadata": {
        "colab": {
          "base_uri": "https://localhost:8080/"
        },
        "id": "YOv-SY0k0XNq",
        "outputId": "6660eb0f-d223-4cc1-fcc6-cade09183acb"
      },
      "execution_count": null,
      "outputs": [
        {
          "output_type": "stream",
          "name": "stdout",
          "text": [
            "The Accuracy for Test Set is 46.76258992805755\n"
          ]
        }
      ]
    },
    {
      "cell_type": "code",
      "source": [
        "cm=confusion_matrix(y_test,y_pred)\n",
        "plt.figure(figsize=(12,6))\n",
        "plt.title(\"Confusion Matrix\")\n",
        "sns.heatmap(cm, annot=True,fmt='d', cmap='Blues')\n",
        "plt.ylabel(\"Actual Values\")\n",
        "plt.xlabel(\"Predicted Values\")\n",
        "#plt.savefig('confusion_matrix.png')"
      ],
      "metadata": {
        "colab": {
          "base_uri": "https://localhost:8080/",
          "height": 421
        },
        "id": "NRYE9bH50dti",
        "outputId": "ee59d821-3571-4522-dc73-0a4777b34f1a"
      },
      "execution_count": null,
      "outputs": [
        {
          "output_type": "execute_result",
          "data": {
            "text/plain": [
              "Text(0.5, 33.0, 'Predicted Values')"
            ]
          },
          "metadata": {},
          "execution_count": 72
        },
        {
          "output_type": "display_data",
          "data": {
            "text/plain": [
              "<Figure size 864x432 with 2 Axes>"
            ],
            "image/png": "[encoded data removed]"
          },
          "metadata": {
            "needs_background": "light"
          }
        }
      ]
    },
    {
      "cell_type": "code",
      "source": [
        "print(classification_report(y_test,y_pred))"
      ],
      "metadata": {
        "colab": {
          "base_uri": "https://localhost:8080/"
        },
        "id": "ZHR-QbV91Gnl",
        "outputId": "284654f5-b913-4bed-d500-269f9429db2c"
      },
      "execution_count": null,
      "outputs": [
        {
          "output_type": "stream",
          "name": "stdout",
          "text": [
            "              precision    recall  f1-score   support\n",
            "\n",
            "          EN       0.71      0.22      0.33        23\n",
            "          EX       0.00      0.00      0.00         8\n",
            "          MI       0.44      0.21      0.28        53\n",
            "          SE       0.46      0.89      0.60        55\n",
            "\n",
            "    accuracy                           0.47       139\n",
            "   macro avg       0.40      0.33      0.31       139\n",
            "weighted avg       0.47      0.47      0.40       139\n",
            "\n"
          ]
        },
        {
          "output_type": "stream",
          "name": "stderr",
          "text": [
            "/usr/local/lib/python3.7/dist-packages/sklearn/metrics/_classification.py:1318: UndefinedMetricWarning: Precision and F-score are ill-defined and being set to 0.0 in labels with no predicted samples. Use `zero_division` parameter to control this behavior.\n",
            "  _warn_prf(average, modifier, msg_start, len(result))\n",
            "/usr/local/lib/python3.7/dist-packages/sklearn/metrics/_classification.py:1318: UndefinedMetricWarning: Precision and F-score are ill-defined and being set to 0.0 in labels with no predicted samples. Use `zero_division` parameter to control this behavior.\n",
            "  _warn_prf(average, modifier, msg_start, len(result))\n",
            "/usr/local/lib/python3.7/dist-packages/sklearn/metrics/_classification.py:1318: UndefinedMetricWarning: Precision and F-score are ill-defined and being set to 0.0 in labels with no predicted samples. Use `zero_division` parameter to control this behavior.\n",
            "  _warn_prf(average, modifier, msg_start, len(result))\n"
          ]
        }
      ]
    },
    {
      "cell_type": "code",
      "source": [
        "from sklearn.naive_bayes import GaussianNB\n",
        "classifier = GaussianNB()\n",
        "classifier.fit(X_train, y_train)"
      ],
      "metadata": {
        "colab": {
          "base_uri": "https://localhost:8080/"
        },
        "id": "DuBeRVWV1NnB",
        "outputId": "76070264-eafd-41ef-a569-30b6637a97c9"
      },
      "execution_count": null,
      "outputs": [
        {
          "output_type": "execute_result",
          "data": {
            "text/plain": [
              "GaussianNB()"
            ]
          },
          "metadata": {},
          "execution_count": 74
        }
      ]
    },
    {
      "cell_type": "code",
      "source": [
        "y_pred = classifier.predict(X_test)"
      ],
      "metadata": {
        "id": "xujs_--V1VT1"
      },
      "execution_count": null,
      "outputs": []
    },
    {
      "cell_type": "code",
      "source": [
        "cm = confusion_matrix(y_test, y_pred)\n",
        "ac = accuracy_score(y_test,y_pred)"
      ],
      "metadata": {
        "id": "Av9z7TwF1YLX"
      },
      "execution_count": null,
      "outputs": []
    },
    {
      "cell_type": "code",
      "source": [
        "print(cm)\n",
        "print(ac)\n",
        "print(classification_report(y_test,y_pred))"
      ],
      "metadata": {
        "colab": {
          "base_uri": "https://localhost:8080/"
        },
        "id": "AlX4LUOc1bk0",
        "outputId": "71411666-5eab-4baa-fd9a-258b161e86b7"
      },
      "execution_count": null,
      "outputs": [
        {
          "output_type": "stream",
          "name": "stdout",
          "text": [
            "[[ 0  0 21  2]\n",
            " [ 0  0  2  6]\n",
            " [ 0  0 34 19]\n",
            " [ 0  0 13 42]]\n",
            "0.5467625899280576\n",
            "              precision    recall  f1-score   support\n",
            "\n",
            "          EN       0.00      0.00      0.00        23\n",
            "          EX       0.00      0.00      0.00         8\n",
            "          MI       0.49      0.64      0.55        53\n",
            "          SE       0.61      0.76      0.68        55\n",
            "\n",
            "    accuracy                           0.55       139\n",
            "   macro avg       0.27      0.35      0.31       139\n",
            "weighted avg       0.43      0.55      0.48       139\n",
            "\n"
          ]
        },
        {
          "output_type": "stream",
          "name": "stderr",
          "text": [
            "/usr/local/lib/python3.7/dist-packages/sklearn/metrics/_classification.py:1318: UndefinedMetricWarning: Precision and F-score are ill-defined and being set to 0.0 in labels with no predicted samples. Use `zero_division` parameter to control this behavior.\n",
            "  _warn_prf(average, modifier, msg_start, len(result))\n",
            "/usr/local/lib/python3.7/dist-packages/sklearn/metrics/_classification.py:1318: UndefinedMetricWarning: Precision and F-score are ill-defined and being set to 0.0 in labels with no predicted samples. Use `zero_division` parameter to control this behavior.\n",
            "  _warn_prf(average, modifier, msg_start, len(result))\n",
            "/usr/local/lib/python3.7/dist-packages/sklearn/metrics/_classification.py:1318: UndefinedMetricWarning: Precision and F-score are ill-defined and being set to 0.0 in labels with no predicted samples. Use `zero_division` parameter to control this behavior.\n",
            "  _warn_prf(average, modifier, msg_start, len(result))\n"
          ]
        }
      ]
    },
    {
      "cell_type": "code",
      "source": [
        "from sklearn.tree import DecisionTreeClassifier\n",
        "clf=DecisionTreeClassifier(criterion=\"entropy\")\n",
        "clf.fit(X_train,y_train)\n",
        "y_pred=clf.predict(X_test)"
      ],
      "metadata": {
        "id": "YEsk2aQi1elC"
      },
      "execution_count": null,
      "outputs": []
    },
    {
      "cell_type": "code",
      "source": [
        "cm = confusion_matrix(y_test, y_pred)\n",
        "ac = accuracy_score(y_test,y_pred)"
      ],
      "metadata": {
        "id": "eYZT9vAk1u7v"
      },
      "execution_count": null,
      "outputs": []
    },
    {
      "cell_type": "code",
      "source": [
        "print(cm)\n",
        "print(ac)\n",
        "print(classification_report(y_test,y_pred))"
      ],
      "metadata": {
        "colab": {
          "base_uri": "https://localhost:8080/"
        },
        "id": "ARiyp5hu1xL_",
        "outputId": "9922e60c-9155-4d56-e4ac-648a6153443b"
      },
      "execution_count": null,
      "outputs": [
        {
          "output_type": "stream",
          "name": "stdout",
          "text": [
            "[[10  0  9  4]\n",
            " [ 0  0  4  4]\n",
            " [14  0 25 14]\n",
            " [ 4  3 14 34]]\n",
            "0.49640287769784175\n",
            "              precision    recall  f1-score   support\n",
            "\n",
            "          EN       0.36      0.43      0.39        23\n",
            "          EX       0.00      0.00      0.00         8\n",
            "          MI       0.48      0.47      0.48        53\n",
            "          SE       0.61      0.62      0.61        55\n",
            "\n",
            "    accuracy                           0.50       139\n",
            "   macro avg       0.36      0.38      0.37       139\n",
            "weighted avg       0.48      0.50      0.49       139\n",
            "\n"
          ]
        }
      ]
    },
    {
      "cell_type": "code",
      "source": [
        "from sklearn import tree\n",
        "text_representation = tree.export_text(clf)\n",
        "print(text_representation)"
      ],
      "metadata": {
        "colab": {
          "base_uri": "https://localhost:8080/"
        },
        "id": "JWmT_QL11zXG",
        "outputId": "83e50a51-b8c9-440d-c704-63c9351c985f"
      },
      "execution_count": null,
      "outputs": [
        {
          "output_type": "stream",
          "name": "stdout",
          "text": [
            "|--- feature_0 <= 90160.00\n",
            "|   |--- feature_0 <= 59651.50\n",
            "|   |   |--- feature_129 <= 0.50\n",
            "|   |   |   |--- feature_88 <= 0.50\n",
            "|   |   |   |   |--- feature_1 <= 25.00\n",
            "|   |   |   |   |   |--- feature_103 <= 0.50\n",
            "|   |   |   |   |   |   |--- feature_20 <= 0.50\n",
            "|   |   |   |   |   |   |   |--- feature_6 <= 0.50\n",
            "|   |   |   |   |   |   |   |   |--- class: MI\n",
            "|   |   |   |   |   |   |   |--- feature_6 >  0.50\n",
            "|   |   |   |   |   |   |   |   |--- feature_0 <= 41623.50\n",
            "|   |   |   |   |   |   |   |   |   |--- feature_89 <= 0.50\n",
            "|   |   |   |   |   |   |   |   |   |   |--- class: EN\n",
            "|   |   |   |   |   |   |   |   |   |--- feature_89 >  0.50\n",
            "|   |   |   |   |   |   |   |   |   |   |--- class: MI\n",
            "|   |   |   |   |   |   |   |   |--- feature_0 >  41623.50\n",
            "|   |   |   |   |   |   |   |   |   |--- class: MI\n",
            "|   |   |   |   |   |   |--- feature_20 >  0.50\n",
            "|   |   |   |   |   |   |   |--- class: EN\n",
            "|   |   |   |   |   |--- feature_103 >  0.50\n",
            "|   |   |   |   |   |   |--- feature_7 <= 0.50\n",
            "|   |   |   |   |   |   |   |--- class: SE\n",
            "|   |   |   |   |   |   |--- feature_7 >  0.50\n",
            "|   |   |   |   |   |   |   |--- class: MI\n",
            "|   |   |   |   |--- feature_1 >  25.00\n",
            "|   |   |   |   |   |--- feature_0 <= 7672.00\n",
            "|   |   |   |   |   |   |--- class: MI\n",
            "|   |   |   |   |   |--- feature_0 >  7672.00\n",
            "|   |   |   |   |   |   |--- feature_0 <= 23403.00\n",
            "|   |   |   |   |   |   |   |--- feature_115 <= 0.50\n",
            "|   |   |   |   |   |   |   |   |--- feature_159 <= 0.50\n",
            "|   |   |   |   |   |   |   |   |   |--- feature_94 <= 0.50\n",
            "|   |   |   |   |   |   |   |   |   |   |--- class: EN\n",
            "|   |   |   |   |   |   |   |   |   |--- feature_94 >  0.50\n",
            "|   |   |   |   |   |   |   |   |   |   |--- feature_0 <= 19221.00\n",
            "|   |   |   |   |   |   |   |   |   |   |   |--- truncated branch of depth 2\n",
            "|   |   |   |   |   |   |   |   |   |   |--- feature_0 >  19221.00\n",
            "|   |   |   |   |   |   |   |   |   |   |   |--- class: EN\n",
            "|   |   |   |   |   |   |   |   |--- feature_159 >  0.50\n",
            "|   |   |   |   |   |   |   |   |   |--- class: MI\n",
            "|   |   |   |   |   |   |   |--- feature_115 >  0.50\n",
            "|   |   |   |   |   |   |   |   |--- class: SE\n",
            "|   |   |   |   |   |   |--- feature_0 >  23403.00\n",
            "|   |   |   |   |   |   |   |--- feature_30 <= 0.50\n",
            "|   |   |   |   |   |   |   |   |--- feature_139 <= 0.50\n",
            "|   |   |   |   |   |   |   |   |   |--- feature_36 <= 0.50\n",
            "|   |   |   |   |   |   |   |   |   |   |--- feature_152 <= 0.50\n",
            "|   |   |   |   |   |   |   |   |   |   |   |--- truncated branch of depth 14\n",
            "|   |   |   |   |   |   |   |   |   |   |--- feature_152 >  0.50\n",
            "|   |   |   |   |   |   |   |   |   |   |   |--- class: SE\n",
            "|   |   |   |   |   |   |   |   |   |--- feature_36 >  0.50\n",
            "|   |   |   |   |   |   |   |   |   |   |--- class: SE\n",
            "|   |   |   |   |   |   |   |   |--- feature_139 >  0.50\n",
            "|   |   |   |   |   |   |   |   |   |--- class: SE\n",
            "|   |   |   |   |   |   |   |--- feature_30 >  0.50\n",
            "|   |   |   |   |   |   |   |   |--- feature_120 <= 0.50\n",
            "|   |   |   |   |   |   |   |   |   |--- class: MI\n",
            "|   |   |   |   |   |   |   |   |--- feature_120 >  0.50\n",
            "|   |   |   |   |   |   |   |   |   |--- class: SE\n",
            "|   |   |   |--- feature_88 >  0.50\n",
            "|   |   |   |   |--- class: MI\n",
            "|   |   |--- feature_129 >  0.50\n",
            "|   |   |   |--- feature_100 <= 0.50\n",
            "|   |   |   |   |--- class: SE\n",
            "|   |   |   |--- feature_100 >  0.50\n",
            "|   |   |   |   |--- class: EN\n",
            "|   |--- feature_0 >  59651.50\n",
            "|   |   |--- feature_0 <= 61948.00\n",
            "|   |   |   |--- feature_30 <= 0.50\n",
            "|   |   |   |   |--- class: SE\n",
            "|   |   |   |--- feature_30 >  0.50\n",
            "|   |   |   |   |--- class: MI\n",
            "|   |   |--- feature_0 >  61948.00\n",
            "|   |   |   |--- feature_8 <= 0.50\n",
            "|   |   |   |   |--- feature_67 <= 0.50\n",
            "|   |   |   |   |   |--- feature_81 <= 0.50\n",
            "|   |   |   |   |   |   |--- feature_148 <= 0.50\n",
            "|   |   |   |   |   |   |   |--- feature_166 <= 0.50\n",
            "|   |   |   |   |   |   |   |   |--- feature_33 <= 0.50\n",
            "|   |   |   |   |   |   |   |   |   |--- feature_7 <= 0.50\n",
            "|   |   |   |   |   |   |   |   |   |   |--- class: MI\n",
            "|   |   |   |   |   |   |   |   |   |--- feature_7 >  0.50\n",
            "|   |   |   |   |   |   |   |   |   |   |--- feature_0 <= 88196.00\n",
            "|   |   |   |   |   |   |   |   |   |   |   |--- truncated branch of depth 4\n",
            "|   |   |   |   |   |   |   |   |   |   |--- feature_0 >  88196.00\n",
            "|   |   |   |   |   |   |   |   |   |   |   |--- class: MI\n",
            "|   |   |   |   |   |   |   |   |--- feature_33 >  0.50\n",
            "|   |   |   |   |   |   |   |   |   |--- class: SE\n",
            "|   |   |   |   |   |   |   |--- feature_166 >  0.50\n",
            "|   |   |   |   |   |   |   |   |--- feature_32 <= 0.50\n",
            "|   |   |   |   |   |   |   |   |   |--- class: MI\n",
            "|   |   |   |   |   |   |   |   |--- feature_32 >  0.50\n",
            "|   |   |   |   |   |   |   |   |   |--- class: EN\n",
            "|   |   |   |   |   |   |--- feature_148 >  0.50\n",
            "|   |   |   |   |   |   |   |--- class: EX\n",
            "|   |   |   |   |   |--- feature_81 >  0.50\n",
            "|   |   |   |   |   |   |--- feature_0 <= 86827.00\n",
            "|   |   |   |   |   |   |   |--- feature_131 <= 0.50\n",
            "|   |   |   |   |   |   |   |   |--- class: EN\n",
            "|   |   |   |   |   |   |   |--- feature_131 >  0.50\n",
            "|   |   |   |   |   |   |   |   |--- class: SE\n",
            "|   |   |   |   |   |   |--- feature_0 >  86827.00\n",
            "|   |   |   |   |   |   |   |--- class: MI\n",
            "|   |   |   |   |--- feature_67 >  0.50\n",
            "|   |   |   |   |   |--- feature_9 <= 0.50\n",
            "|   |   |   |   |   |   |--- feature_140 <= 0.50\n",
            "|   |   |   |   |   |   |   |--- class: EN\n",
            "|   |   |   |   |   |   |--- feature_140 >  0.50\n",
            "|   |   |   |   |   |   |   |--- feature_11 <= 0.50\n",
            "|   |   |   |   |   |   |   |   |--- class: EN\n",
            "|   |   |   |   |   |   |   |--- feature_11 >  0.50\n",
            "|   |   |   |   |   |   |   |   |--- feature_0 <= 86250.00\n",
            "|   |   |   |   |   |   |   |   |   |--- class: MI\n",
            "|   |   |   |   |   |   |   |   |--- feature_0 >  86250.00\n",
            "|   |   |   |   |   |   |   |   |   |--- class: EN\n",
            "|   |   |   |   |   |--- feature_9 >  0.50\n",
            "|   |   |   |   |   |   |--- feature_0 <= 82500.00\n",
            "|   |   |   |   |   |   |   |--- feature_1 <= 50.00\n",
            "|   |   |   |   |   |   |   |   |--- class: MI\n",
            "|   |   |   |   |   |   |   |--- feature_1 >  50.00\n",
            "|   |   |   |   |   |   |   |   |--- class: EN\n",
            "|   |   |   |   |   |   |--- feature_0 >  82500.00\n",
            "|   |   |   |   |   |   |   |--- class: MI\n",
            "|   |   |   |--- feature_8 >  0.50\n",
            "|   |   |   |   |--- feature_67 <= 0.50\n",
            "|   |   |   |   |   |--- feature_39 <= 0.50\n",
            "|   |   |   |   |   |   |--- feature_15 <= 0.50\n",
            "|   |   |   |   |   |   |   |--- feature_156 <= 0.50\n",
            "|   |   |   |   |   |   |   |   |--- feature_81 <= 0.50\n",
            "|   |   |   |   |   |   |   |   |   |--- feature_0 <= 65693.50\n",
            "|   |   |   |   |   |   |   |   |   |   |--- feature_135 <= 0.50\n",
            "|   |   |   |   |   |   |   |   |   |   |   |--- class: MI\n",
            "|   |   |   |   |   |   |   |   |   |   |--- feature_135 >  0.50\n",
            "|   |   |   |   |   |   |   |   |   |   |   |--- class: SE\n",
            "|   |   |   |   |   |   |   |   |   |--- feature_0 >  65693.50\n",
            "|   |   |   |   |   |   |   |   |   |   |--- feature_155 <= 0.50\n",
            "|   |   |   |   |   |   |   |   |   |   |   |--- class: MI\n",
            "|   |   |   |   |   |   |   |   |   |   |--- feature_155 >  0.50\n",
            "|   |   |   |   |   |   |   |   |   |   |   |--- class: MI\n",
            "|   |   |   |   |   |   |   |   |--- feature_81 >  0.50\n",
            "|   |   |   |   |   |   |   |   |   |--- class: SE\n",
            "|   |   |   |   |   |   |   |--- feature_156 >  0.50\n",
            "|   |   |   |   |   |   |   |   |--- class: SE\n",
            "|   |   |   |   |   |   |--- feature_15 >  0.50\n",
            "|   |   |   |   |   |   |   |--- feature_140 <= 0.50\n",
            "|   |   |   |   |   |   |   |   |--- class: MI\n",
            "|   |   |   |   |   |   |   |--- feature_140 >  0.50\n",
            "|   |   |   |   |   |   |   |   |--- class: EN\n",
            "|   |   |   |   |   |--- feature_39 >  0.50\n",
            "|   |   |   |   |   |   |--- class: EX\n",
            "|   |   |   |   |--- feature_67 >  0.50\n",
            "|   |   |   |   |   |--- feature_0 <= 67000.00\n",
            "|   |   |   |   |   |   |--- class: EN\n",
            "|   |   |   |   |   |--- feature_0 >  67000.00\n",
            "|   |   |   |   |   |   |--- feature_140 <= 0.50\n",
            "|   |   |   |   |   |   |   |--- class: SE\n",
            "|   |   |   |   |   |   |--- feature_140 >  0.50\n",
            "|   |   |   |   |   |   |   |--- class: MI\n",
            "|--- feature_0 >  90160.00\n",
            "|   |--- feature_0 <= 138475.00\n",
            "|   |   |--- feature_8 <= 0.50\n",
            "|   |   |   |--- feature_117 <= 0.50\n",
            "|   |   |   |   |--- feature_0 <= 111454.50\n",
            "|   |   |   |   |   |--- feature_0 <= 98141.00\n",
            "|   |   |   |   |   |   |--- class: SE\n",
            "|   |   |   |   |   |--- feature_0 >  98141.00\n",
            "|   |   |   |   |   |   |--- feature_1 <= 75.00\n",
            "|   |   |   |   |   |   |   |--- class: EN\n",
            "|   |   |   |   |   |   |--- feature_1 >  75.00\n",
            "|   |   |   |   |   |   |   |--- class: SE\n",
            "|   |   |   |   |--- feature_0 >  111454.50\n",
            "|   |   |   |   |   |--- feature_143 <= 0.50\n",
            "|   |   |   |   |   |   |--- feature_20 <= 0.50\n",
            "|   |   |   |   |   |   |   |--- feature_0 <= 114523.50\n",
            "|   |   |   |   |   |   |   |   |--- feature_0 <= 113174.00\n",
            "|   |   |   |   |   |   |   |   |   |--- class: MI\n",
            "|   |   |   |   |   |   |   |   |--- feature_0 >  113174.00\n",
            "|   |   |   |   |   |   |   |   |   |--- class: SE\n",
            "|   |   |   |   |   |   |   |--- feature_0 >  114523.50\n",
            "|   |   |   |   |   |   |   |   |--- class: MI\n",
            "|   |   |   |   |   |   |--- feature_20 >  0.50\n",
            "|   |   |   |   |   |   |   |--- class: SE\n",
            "|   |   |   |   |   |--- feature_143 >  0.50\n",
            "|   |   |   |   |   |   |--- class: EX\n",
            "|   |   |   |--- feature_117 >  0.50\n",
            "|   |   |   |   |--- feature_0 <= 101500.00\n",
            "|   |   |   |   |   |--- feature_0 <= 99000.00\n",
            "|   |   |   |   |   |   |--- feature_0 <= 92000.00\n",
            "|   |   |   |   |   |   |   |--- class: EN\n",
            "|   |   |   |   |   |   |--- feature_0 >  92000.00\n",
            "|   |   |   |   |   |   |   |--- class: MI\n",
            "|   |   |   |   |   |--- feature_0 >  99000.00\n",
            "|   |   |   |   |   |   |--- class: EN\n",
            "|   |   |   |   |--- feature_0 >  101500.00\n",
            "|   |   |   |   |   |--- feature_11 <= 0.50\n",
            "|   |   |   |   |   |   |--- feature_135 <= 0.50\n",
            "|   |   |   |   |   |   |   |--- feature_1 <= 25.00\n",
            "|   |   |   |   |   |   |   |   |--- class: SE\n",
            "|   |   |   |   |   |   |   |--- feature_1 >  25.00\n",
            "|   |   |   |   |   |   |   |   |--- feature_2 <= 0.50\n",
            "|   |   |   |   |   |   |   |   |   |--- feature_1 <= 75.00\n",
            "|   |   |   |   |   |   |   |   |   |   |--- feature_6 <= 0.50\n",
            "|   |   |   |   |   |   |   |   |   |   |   |--- class: MI\n",
            "|   |   |   |   |   |   |   |   |   |   |--- feature_6 >  0.50\n",
            "|   |   |   |   |   |   |   |   |   |   |   |--- class: SE\n",
            "|   |   |   |   |   |   |   |   |   |--- feature_1 >  75.00\n",
            "|   |   |   |   |   |   |   |   |   |   |--- class: MI\n",
            "|   |   |   |   |   |   |   |   |--- feature_2 >  0.50\n",
            "|   |   |   |   |   |   |   |   |   |--- class: SE\n",
            "|   |   |   |   |   |   |--- feature_135 >  0.50\n",
            "|   |   |   |   |   |   |   |--- class: MI\n",
            "|   |   |   |   |   |--- feature_11 >  0.50\n",
            "|   |   |   |   |   |   |--- feature_148 <= 0.50\n",
            "|   |   |   |   |   |   |   |--- feature_156 <= 0.50\n",
            "|   |   |   |   |   |   |   |   |--- feature_140 <= 0.50\n",
            "|   |   |   |   |   |   |   |   |   |--- class: SE\n",
            "|   |   |   |   |   |   |   |   |--- feature_140 >  0.50\n",
            "|   |   |   |   |   |   |   |   |   |--- class: EN\n",
            "|   |   |   |   |   |   |   |--- feature_156 >  0.50\n",
            "|   |   |   |   |   |   |   |   |--- class: EN\n",
            "|   |   |   |   |   |   |--- feature_148 >  0.50\n",
            "|   |   |   |   |   |   |   |--- class: MI\n",
            "|   |   |--- feature_8 >  0.50\n",
            "|   |   |   |--- feature_151 <= 0.50\n",
            "|   |   |   |   |--- feature_83 <= 0.50\n",
            "|   |   |   |   |   |--- feature_129 <= 0.50\n",
            "|   |   |   |   |   |   |--- feature_1 <= 25.00\n",
            "|   |   |   |   |   |   |   |--- feature_0 <= 131000.00\n",
            "|   |   |   |   |   |   |   |   |--- feature_0 <= 96854.00\n",
            "|   |   |   |   |   |   |   |   |   |--- class: SE\n",
            "|   |   |   |   |   |   |   |   |--- feature_0 >  96854.00\n",
            "|   |   |   |   |   |   |   |   |   |--- feature_120 <= 0.50\n",
            "|   |   |   |   |   |   |   |   |   |   |--- feature_0 <= 98579.00\n",
            "|   |   |   |   |   |   |   |   |   |   |   |--- class: MI\n",
            "|   |   |   |   |   |   |   |   |   |   |--- feature_0 >  98579.00\n",
            "|   |   |   |   |   |   |   |   |   |   |   |--- truncated branch of depth 7\n",
            "|   |   |   |   |   |   |   |   |   |--- feature_120 >  0.50\n",
            "|   |   |   |   |   |   |   |   |   |   |--- class: MI\n",
            "|   |   |   |   |   |   |   |--- feature_0 >  131000.00\n",
            "|   |   |   |   |   |   |   |   |--- class: SE\n",
            "|   |   |   |   |   |   |--- feature_1 >  25.00\n",
            "|   |   |   |   |   |   |   |--- feature_87 <= 0.50\n",
            "|   |   |   |   |   |   |   |   |--- feature_0 <= 115250.00\n",
            "|   |   |   |   |   |   |   |   |   |--- feature_3 <= 0.50\n",
            "|   |   |   |   |   |   |   |   |   |   |--- class: SE\n",
            "|   |   |   |   |   |   |   |   |   |--- feature_3 >  0.50\n",
            "|   |   |   |   |   |   |   |   |   |   |--- class: MI\n",
            "|   |   |   |   |   |   |   |   |--- feature_0 >  115250.00\n",
            "|   |   |   |   |   |   |   |   |   |--- feature_135 <= 0.50\n",
            "|   |   |   |   |   |   |   |   |   |   |--- feature_0 <= 135800.00\n",
            "|   |   |   |   |   |   |   |   |   |   |   |--- truncated branch of depth 7\n",
            "|   |   |   |   |   |   |   |   |   |   |--- feature_0 >  135800.00\n",
            "|   |   |   |   |   |   |   |   |   |   |   |--- class: SE\n",
            "|   |   |   |   |   |   |   |   |   |--- feature_135 >  0.50\n",
            "|   |   |   |   |   |   |   |   |   |   |--- feature_0 <= 124437.50\n",
            "|   |   |   |   |   |   |   |   |   |   |   |--- class: EN\n",
            "|   |   |   |   |   |   |   |   |   |   |--- feature_0 >  124437.50\n",
            "|   |   |   |   |   |   |   |   |   |   |   |--- class: SE\n",
            "|   |   |   |   |   |   |   |--- feature_87 >  0.50\n",
            "|   |   |   |   |   |   |   |   |--- class: MI\n",
            "|   |   |   |   |   |--- feature_129 >  0.50\n",
            "|   |   |   |   |   |   |--- class: EN\n",
            "|   |   |   |   |--- feature_83 >  0.50\n",
            "|   |   |   |   |   |--- class: EN\n",
            "|   |   |   |--- feature_151 >  0.50\n",
            "|   |   |   |   |--- class: EX\n",
            "|   |--- feature_0 >  138475.00\n",
            "|   |   |--- feature_0 <= 215650.00\n",
            "|   |   |   |--- feature_72 <= 0.50\n",
            "|   |   |   |   |--- feature_159 <= 0.50\n",
            "|   |   |   |   |   |--- feature_148 <= 0.50\n",
            "|   |   |   |   |   |   |--- feature_0 <= 146500.00\n",
            "|   |   |   |   |   |   |   |--- feature_81 <= 0.50\n",
            "|   |   |   |   |   |   |   |   |--- class: SE\n",
            "|   |   |   |   |   |   |   |--- feature_81 >  0.50\n",
            "|   |   |   |   |   |   |   |   |--- class: EX\n",
            "|   |   |   |   |   |   |--- feature_0 >  146500.00\n",
            "|   |   |   |   |   |   |   |--- feature_121 <= 0.50\n",
            "|   |   |   |   |   |   |   |   |--- feature_32 <= 0.50\n",
            "|   |   |   |   |   |   |   |   |   |--- feature_0 <= 160040.00\n",
            "|   |   |   |   |   |   |   |   |   |   |--- feature_140 <= 0.50\n",
            "|   |   |   |   |   |   |   |   |   |   |   |--- truncated branch of depth 6\n",
            "|   |   |   |   |   |   |   |   |   |   |--- feature_140 >  0.50\n",
            "|   |   |   |   |   |   |   |   |   |   |   |--- truncated branch of depth 3\n",
            "|   |   |   |   |   |   |   |   |   |--- feature_0 >  160040.00\n",
            "|   |   |   |   |   |   |   |   |   |   |--- feature_166 <= 0.50\n",
            "|   |   |   |   |   |   |   |   |   |   |   |--- truncated branch of depth 6\n",
            "|   |   |   |   |   |   |   |   |   |   |--- feature_166 >  0.50\n",
            "|   |   |   |   |   |   |   |   |   |   |   |--- class: MI\n",
            "|   |   |   |   |   |   |   |   |--- feature_32 >  0.50\n",
            "|   |   |   |   |   |   |   |   |   |--- class: MI\n",
            "|   |   |   |   |   |   |   |--- feature_121 >  0.50\n",
            "|   |   |   |   |   |   |   |   |--- feature_0 <= 179850.00\n",
            "|   |   |   |   |   |   |   |   |   |--- class: EX\n",
            "|   |   |   |   |   |   |   |   |--- feature_0 >  179850.00\n",
            "|   |   |   |   |   |   |   |   |   |--- class: SE\n",
            "|   |   |   |   |   |--- feature_148 >  0.50\n",
            "|   |   |   |   |   |   |--- class: EX\n",
            "|   |   |   |   |--- feature_159 >  0.50\n",
            "|   |   |   |   |   |--- class: MI\n",
            "|   |   |   |--- feature_72 >  0.50\n",
            "|   |   |   |   |--- class: EN\n",
            "|   |   |--- feature_0 >  215650.00\n",
            "|   |   |   |--- feature_139 <= 0.50\n",
            "|   |   |   |   |--- feature_9 <= 0.50\n",
            "|   |   |   |   |   |--- feature_148 <= 0.50\n",
            "|   |   |   |   |   |   |--- feature_135 <= 0.50\n",
            "|   |   |   |   |   |   |   |--- class: SE\n",
            "|   |   |   |   |   |   |--- feature_135 >  0.50\n",
            "|   |   |   |   |   |   |   |--- feature_0 <= 218055.00\n",
            "|   |   |   |   |   |   |   |   |--- class: EX\n",
            "|   |   |   |   |   |   |   |--- feature_0 >  218055.00\n",
            "|   |   |   |   |   |   |   |   |--- feature_0 <= 231055.00\n",
            "|   |   |   |   |   |   |   |   |   |--- class: SE\n",
            "|   |   |   |   |   |   |   |   |--- feature_0 >  231055.00\n",
            "|   |   |   |   |   |   |   |   |   |--- class: EX\n",
            "|   |   |   |   |   |--- feature_148 >  0.50\n",
            "|   |   |   |   |   |   |--- class: EX\n",
            "|   |   |   |   |--- feature_9 >  0.50\n",
            "|   |   |   |   |   |--- feature_164 <= 0.50\n",
            "|   |   |   |   |   |   |--- feature_117 <= 0.50\n",
            "|   |   |   |   |   |   |   |--- class: SE\n",
            "|   |   |   |   |   |   |--- feature_117 >  0.50\n",
            "|   |   |   |   |   |   |   |--- feature_143 <= 0.50\n",
            "|   |   |   |   |   |   |   |   |--- feature_147 <= 0.50\n",
            "|   |   |   |   |   |   |   |   |   |--- class: EN\n",
            "|   |   |   |   |   |   |   |   |--- feature_147 >  0.50\n",
            "|   |   |   |   |   |   |   |   |   |--- class: EX\n",
            "|   |   |   |   |   |   |   |--- feature_143 >  0.50\n",
            "|   |   |   |   |   |   |   |   |--- class: EX\n",
            "|   |   |   |   |   |--- feature_164 >  0.50\n",
            "|   |   |   |   |   |   |--- class: SE\n",
            "|   |   |   |--- feature_139 >  0.50\n",
            "|   |   |   |   |--- class: MI\n",
            "\n"
          ]
        }
      ]
    },
    {
      "cell_type": "code",
      "source": [],
      "metadata": {
        "id": "-s5GqT6M118U"
      },
      "execution_count": null,
      "outputs": []
    }
  ]
}